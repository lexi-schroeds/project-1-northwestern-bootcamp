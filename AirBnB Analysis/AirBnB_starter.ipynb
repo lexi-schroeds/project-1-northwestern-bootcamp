{
 "cells": [
  {
   "attachments": {},
   "cell_type": "markdown",
   "metadata": {},
   "source": [
    "## AirBnB Analysis\n",
    "<i> Summary of the AirBnB data - to be filled in once below complete </i>"
   ]
  },
  {
   "cell_type": "markdown",
   "metadata": {},
   "source": [
    "## Setup"
   ]
  },
  {
   "cell_type": "code",
   "execution_count": 1,
   "metadata": {},
   "outputs": [
    {
     "name": "stderr",
     "output_type": "stream",
     "text": [
      "C:\\Users\\lexis\\AppData\\Local\\Temp\\ipykernel_26900\\4234362145.py:10: DtypeWarning: Columns (5) have mixed types. Specify dtype option on import or set low_memory=False.\n",
      "  AirBnB_2020_data = pd.read_csv(airbnb_2020_data_to_load)\n",
      "C:\\Users\\lexis\\AppData\\Local\\Temp\\ipykernel_26900\\4234362145.py:11: DtypeWarning: Columns (5) have mixed types. Specify dtype option on import or set low_memory=False.\n",
      "  AirBnB_2023_data = pd.read_csv(airbnb_2023_data_to_load)\n"
     ]
    },
    {
     "data": {
      "text/html": [
       "<div>\n",
       "<style scoped>\n",
       "    .dataframe tbody tr th:only-of-type {\n",
       "        vertical-align: middle;\n",
       "    }\n",
       "\n",
       "    .dataframe tbody tr th {\n",
       "        vertical-align: top;\n",
       "    }\n",
       "\n",
       "    .dataframe thead th {\n",
       "        text-align: right;\n",
       "    }\n",
       "</style>\n",
       "<table border=\"1\" class=\"dataframe\">\n",
       "  <thead>\n",
       "    <tr style=\"text-align: right;\">\n",
       "      <th></th>\n",
       "      <th>year</th>\n",
       "      <th>id_x</th>\n",
       "      <th>name_x</th>\n",
       "      <th>host_id_x</th>\n",
       "      <th>host_name_x</th>\n",
       "      <th>neighbourhood_group_x</th>\n",
       "      <th>neighbourhood_x</th>\n",
       "      <th>latitude_x</th>\n",
       "      <th>longitude_x</th>\n",
       "      <th>room_type_x</th>\n",
       "      <th>...</th>\n",
       "      <th>room_type_y</th>\n",
       "      <th>price_y</th>\n",
       "      <th>minimum_nights_y</th>\n",
       "      <th>number_of_reviews_y</th>\n",
       "      <th>last_review_y</th>\n",
       "      <th>reviews_per_month_y</th>\n",
       "      <th>calculated_host_listings_count_y</th>\n",
       "      <th>availability_365_y</th>\n",
       "      <th>number_of_reviews_ltm</th>\n",
       "      <th>city_y</th>\n",
       "    </tr>\n",
       "  </thead>\n",
       "  <tbody>\n",
       "    <tr>\n",
       "      <th>0</th>\n",
       "      <td>2020</td>\n",
       "      <td>38585</td>\n",
       "      <td>Charming Victorian home - twin beds + breakfast</td>\n",
       "      <td>165529</td>\n",
       "      <td>Evelyne</td>\n",
       "      <td>NaN</td>\n",
       "      <td>28804</td>\n",
       "      <td>35.65146</td>\n",
       "      <td>-82.62792</td>\n",
       "      <td>Private room</td>\n",
       "      <td>...</td>\n",
       "      <td>NaN</td>\n",
       "      <td>NaN</td>\n",
       "      <td>NaN</td>\n",
       "      <td>NaN</td>\n",
       "      <td>NaN</td>\n",
       "      <td>NaN</td>\n",
       "      <td>NaN</td>\n",
       "      <td>NaN</td>\n",
       "      <td>NaN</td>\n",
       "      <td>NaN</td>\n",
       "    </tr>\n",
       "    <tr>\n",
       "      <th>1</th>\n",
       "      <td>2020</td>\n",
       "      <td>80905</td>\n",
       "      <td>French Chic Loft</td>\n",
       "      <td>427027</td>\n",
       "      <td>Celeste</td>\n",
       "      <td>NaN</td>\n",
       "      <td>28801</td>\n",
       "      <td>35.59779</td>\n",
       "      <td>-82.55540</td>\n",
       "      <td>Entire home/apt</td>\n",
       "      <td>...</td>\n",
       "      <td>NaN</td>\n",
       "      <td>NaN</td>\n",
       "      <td>NaN</td>\n",
       "      <td>NaN</td>\n",
       "      <td>NaN</td>\n",
       "      <td>NaN</td>\n",
       "      <td>NaN</td>\n",
       "      <td>NaN</td>\n",
       "      <td>NaN</td>\n",
       "      <td>NaN</td>\n",
       "    </tr>\n",
       "    <tr>\n",
       "      <th>2</th>\n",
       "      <td>2020</td>\n",
       "      <td>108061</td>\n",
       "      <td>Walk to stores/parks/downtown. Fenced yard/Pet...</td>\n",
       "      <td>320564</td>\n",
       "      <td>Lisa</td>\n",
       "      <td>NaN</td>\n",
       "      <td>28801</td>\n",
       "      <td>35.60670</td>\n",
       "      <td>-82.55563</td>\n",
       "      <td>Entire home/apt</td>\n",
       "      <td>...</td>\n",
       "      <td>NaN</td>\n",
       "      <td>NaN</td>\n",
       "      <td>NaN</td>\n",
       "      <td>NaN</td>\n",
       "      <td>NaN</td>\n",
       "      <td>NaN</td>\n",
       "      <td>NaN</td>\n",
       "      <td>NaN</td>\n",
       "      <td>NaN</td>\n",
       "      <td>NaN</td>\n",
       "    </tr>\n",
       "    <tr>\n",
       "      <th>3</th>\n",
       "      <td>2020</td>\n",
       "      <td>155305</td>\n",
       "      <td>Cottage! BonPaul + Sharky's Hostel</td>\n",
       "      <td>746673</td>\n",
       "      <td>BonPaul</td>\n",
       "      <td>NaN</td>\n",
       "      <td>28806</td>\n",
       "      <td>35.57864</td>\n",
       "      <td>-82.59578</td>\n",
       "      <td>Entire home/apt</td>\n",
       "      <td>...</td>\n",
       "      <td>NaN</td>\n",
       "      <td>NaN</td>\n",
       "      <td>NaN</td>\n",
       "      <td>NaN</td>\n",
       "      <td>NaN</td>\n",
       "      <td>NaN</td>\n",
       "      <td>NaN</td>\n",
       "      <td>NaN</td>\n",
       "      <td>NaN</td>\n",
       "      <td>NaN</td>\n",
       "    </tr>\n",
       "    <tr>\n",
       "      <th>4</th>\n",
       "      <td>2020</td>\n",
       "      <td>160594</td>\n",
       "      <td>Historic Grove Park</td>\n",
       "      <td>769252</td>\n",
       "      <td>Elizabeth</td>\n",
       "      <td>NaN</td>\n",
       "      <td>28801</td>\n",
       "      <td>35.61442</td>\n",
       "      <td>-82.54127</td>\n",
       "      <td>Private room</td>\n",
       "      <td>...</td>\n",
       "      <td>NaN</td>\n",
       "      <td>NaN</td>\n",
       "      <td>NaN</td>\n",
       "      <td>NaN</td>\n",
       "      <td>NaN</td>\n",
       "      <td>NaN</td>\n",
       "      <td>NaN</td>\n",
       "      <td>NaN</td>\n",
       "      <td>NaN</td>\n",
       "      <td>NaN</td>\n",
       "    </tr>\n",
       "  </tbody>\n",
       "</table>\n",
       "<p>5 rows × 36 columns</p>\n",
       "</div>"
      ],
      "text/plain": [
       "   year    id_x                                             name_x  host_id_x  \\\n",
       "0  2020   38585    Charming Victorian home - twin beds + breakfast     165529   \n",
       "1  2020   80905                                   French Chic Loft     427027   \n",
       "2  2020  108061  Walk to stores/parks/downtown. Fenced yard/Pet...     320564   \n",
       "3  2020  155305                 Cottage! BonPaul + Sharky's Hostel     746673   \n",
       "4  2020  160594                                Historic Grove Park     769252   \n",
       "\n",
       "  host_name_x neighbourhood_group_x neighbourhood_x  latitude_x  longitude_x  \\\n",
       "0     Evelyne                   NaN           28804    35.65146    -82.62792   \n",
       "1     Celeste                   NaN           28801    35.59779    -82.55540   \n",
       "2        Lisa                   NaN           28801    35.60670    -82.55563   \n",
       "3     BonPaul                   NaN           28806    35.57864    -82.59578   \n",
       "4   Elizabeth                   NaN           28801    35.61442    -82.54127   \n",
       "\n",
       "       room_type_x  ...  room_type_y  price_y  minimum_nights_y  \\\n",
       "0     Private room  ...          NaN      NaN               NaN   \n",
       "1  Entire home/apt  ...          NaN      NaN               NaN   \n",
       "2  Entire home/apt  ...          NaN      NaN               NaN   \n",
       "3  Entire home/apt  ...          NaN      NaN               NaN   \n",
       "4     Private room  ...          NaN      NaN               NaN   \n",
       "\n",
       "  number_of_reviews_y  last_review_y  reviews_per_month_y  \\\n",
       "0                 NaN            NaN                  NaN   \n",
       "1                 NaN            NaN                  NaN   \n",
       "2                 NaN            NaN                  NaN   \n",
       "3                 NaN            NaN                  NaN   \n",
       "4                 NaN            NaN                  NaN   \n",
       "\n",
       "   calculated_host_listings_count_y availability_365_y  number_of_reviews_ltm  \\\n",
       "0                               NaN                NaN                    NaN   \n",
       "1                               NaN                NaN                    NaN   \n",
       "2                               NaN                NaN                    NaN   \n",
       "3                               NaN                NaN                    NaN   \n",
       "4                               NaN                NaN                    NaN   \n",
       "\n",
       "  city_y  \n",
       "0    NaN  \n",
       "1    NaN  \n",
       "2    NaN  \n",
       "3    NaN  \n",
       "4    NaN  \n",
       "\n",
       "[5 rows x 36 columns]"
      ]
     },
     "execution_count": 1,
     "metadata": {},
     "output_type": "execute_result"
    }
   ],
   "source": [
    "# Dependencies and Setup\n",
    "import pandas as pd\n",
    "from pathlib import Path\n",
    "\n",
    "# File to Load (Remember to Change These)\n",
    "airbnb_2020_data_to_load = Path(\"Resources/AB_US_2020.csv\")\n",
    "airbnb_2023_data_to_load = Path(\"Resources/AB_US_2023.csv\")\n",
    "\n",
    "# Read 2020 and 2023 AirBnB Data Files and store into Pandas DataFrames\n",
    "AirBnB_2020_data = pd.read_csv(airbnb_2020_data_to_load)\n",
    "AirBnB_2023_data = pd.read_csv(airbnb_2023_data_to_load)\n",
    "\n",
    "# Combine the data into a single dataset.\n",
    "AirBnB_data_complete = pd.merge(AirBnB_2020_data, AirBnB_2023_data, how=\"left\", on=[\"year\", \"year\"])\n",
    "AirBnB_data_complete.head()\n"
   ]
  },
  {
   "cell_type": "markdown",
   "metadata": {},
   "source": [
    "## Customer Demand Summary - 2020\n",
    "\n",
    "For the purposes of this analysis, popularity is determined by the % availability and expensive by avg. price per city \n",
    "- Analyze most popular Top 10 cities in U.S. = low % availability (i.e., 0/365 days available = 0% availability) in 2020\n",
    "- Analyze least popular Bottom 10 cities in U.S. = high % availability (i.e., 365/365 days available = 100% availability) in 2020\n",
    "- Analyze most expensive Top 10 cities in U.S. = top 10 cities with highest avg. prices of AirBnB per city in 2020\n",
    "- Analyze least expensive Bottom 10 cities in U.S. =  bottom 10 cities with highest avg. prices of AirBnB per city in 2020\n"
   ]
  },
  {
   "cell_type": "code",
   "execution_count": null,
   "metadata": {},
   "outputs": [
    {
     "data": {
      "text/plain": [
       "226029"
      ]
     },
     "metadata": {},
     "output_type": "display_data"
    }
   ],
   "source": [
    "# Calculate the total number of unique AirBnBs grouped by City\n",
    "AirBnB_count = AirBnB_data_complete[\"id_x\"].nunique()\n",
    "AirBnB_count\n"
   ]
  },
  {
   "cell_type": "code",
   "execution_count": null,
   "metadata": {},
   "outputs": [],
   "source": [
    "#Calculate popularity of cities in U.S. by calculating availability per AirBnB grouped by City\n",
    "\n",
    "#Display Most Popular Cities (i.e., Top 10) with lowest % availability"
   ]
  },
  {
   "cell_type": "code",
   "execution_count": null,
   "metadata": {},
   "outputs": [],
   "source": [
    "#Display Least Popular Cities (i.e., Bottom 10) with highest % availability"
   ]
  },
  {
   "cell_type": "code",
   "execution_count": null,
   "metadata": {},
   "outputs": [],
   "source": [
    "#Calculate avg. price per AirBnB grouped by City\n",
    "\n",
    "#Display Most Expensive Cities (i.e., Top 10 highest avg. price of AirBnB)"
   ]
  },
  {
   "cell_type": "code",
   "execution_count": null,
   "metadata": {},
   "outputs": [],
   "source": [
    "#Display Least Expensive Cities (i.e., Bottom 10 lowest avg. price of AirBnB)"
   ]
  },
  {
   "cell_type": "markdown",
   "metadata": {},
   "source": [
    "## Customer Demand Summary - 2023\n",
    "\n",
    "For the purposes of this analysis, popularity is determined by the % availability and expensive by avg. price per city \n",
    "- Analyze most popular Top 10 cities in U.S. = low % availability (i.e., 0/365 days available = 0% availability) in 2023\n",
    "- Analyze least popular Bottom 10 cities in U.S. = high % availability (i.e., 365/365 days available = 100% availability) in 2023\n",
    "- Analyze most expensive Top 10 cities in U.S. = top 10 cities with highest avg. prices of AirBnB per city in 2023\n",
    "- Analyze least expensive Bottom 10 cities in U.S. =  bottom 10 cities with highest avg. prices of AirBnB per city in 2023\n"
   ]
  },
  {
   "cell_type": "code",
   "execution_count": null,
   "metadata": {},
   "outputs": [
    {
     "data": {
      "text/plain": [
       "226029"
      ]
     },
     "metadata": {},
     "output_type": "display_data"
    }
   ],
   "source": [
    "# Calculate the total number of unique AirBnBs grouped by City\n",
    "AirBnB_count = AirBnB_data_complete[\"id_x\"].nunique()\n",
    "AirBnB_count\n"
   ]
  },
  {
   "cell_type": "code",
   "execution_count": 18,
   "metadata": {},
   "outputs": [],
   "source": [
    "#Calculate popularity of cities in U.S. by calculating availability per AirBnB grouped by City\n",
    "\n",
    "#Display Most Popular Cities (i.e., Top 10) with lowest % availability"
   ]
  },
  {
   "cell_type": "code",
   "execution_count": 19,
   "metadata": {},
   "outputs": [],
   "source": [
    "#Display Least Popular Cities (i.e., Bottom 10) with highest % availability"
   ]
  },
  {
   "cell_type": "code",
   "execution_count": 20,
   "metadata": {},
   "outputs": [],
   "source": [
    "#Calculate avg. price per AirBnB grouped by City\n",
    "\n",
    "#Display Most Expensive Cities (i.e., Top 10 highest avg. price of AirBnB)"
   ]
  },
  {
   "cell_type": "code",
   "execution_count": 21,
   "metadata": {},
   "outputs": [],
   "source": [
    "#Display Least Expensive Cities (i.e., Bottom 10 lowest avg. price of AirBnB)"
   ]
  },
  {
   "cell_type": "markdown",
   "metadata": {},
   "source": [
    "## Understanding Customer Behavior - 2020\n",
    "\n",
    "Customer Behavior correlations based on available data: \n",
    "- Analyze % of renters who preferred Entire Home vs. Private Room in 2020\n",
    "- Analyze number of reviews compared to % availability of the AirBnB in 2020\n",
    "- Analyze comparison of price vs. minimum number of nights booked in 2020\n",
    "- Analyze number of reviews compared to city (i.e., which cities see most reviews which see least) in 2020\n",
    "- Analyze how weather impacts AirBnB availability by city in 2020"
   ]
  },
  {
   "cell_type": "code",
   "execution_count": null,
   "metadata": {},
   "outputs": [],
   "source": [
    "# Calculate % of renters who preferred Entire Home vs. Private Room in 2020"
   ]
  },
  {
   "cell_type": "code",
   "execution_count": null,
   "metadata": {},
   "outputs": [],
   "source": [
    "# Calculate number of reviews compared to % availability of the AirBnB in 2020"
   ]
  },
  {
   "cell_type": "code",
   "execution_count": null,
   "metadata": {},
   "outputs": [],
   "source": [
    "# Create comparison of price vs. minimum number of nights booked in 2020"
   ]
  },
  {
   "cell_type": "code",
   "execution_count": null,
   "metadata": {},
   "outputs": [],
   "source": [
    "# Calculate number of reviews compared to city (i.e., which cities see most reviews which see least) in 2020"
   ]
  },
  {
   "cell_type": "code",
   "execution_count": null,
   "metadata": {},
   "outputs": [],
   "source": [
    "# Use weather API key to compare within city"
   ]
  },
  {
   "cell_type": "markdown",
   "metadata": {},
   "source": [
    "## Understanding Customer Behavior - 2023\n",
    "\n",
    "Customer Behavior correlations based on available data: \n",
    "- Analyze % of renters who preferred Entire Home vs. Private Room in 2023\n",
    "- Analyze number of reviews compared to % availability of the AirBnB in 2023\n",
    "- Analyze comparison of price vs. minimum number of nights booked in 2023\n",
    "- Analyze number of reviews compared to city (i.e., which cities see most reviews which see least) in 2023\n",
    "- Analyze how weather impacts AirBnB availability by city in 2023"
   ]
  },
  {
   "cell_type": "code",
   "execution_count": null,
   "metadata": {},
   "outputs": [],
   "source": [
    "# Calculate % of renters who preferred Entire Home vs. Private Room in 2023"
   ]
  },
  {
   "cell_type": "code",
   "execution_count": null,
   "metadata": {},
   "outputs": [],
   "source": [
    "# Calculate number of reviews compared to % availability of the AirBnB in 2023"
   ]
  },
  {
   "cell_type": "code",
   "execution_count": null,
   "metadata": {},
   "outputs": [],
   "source": [
    "# Create comparison of price vs. minimum number of nights booked in 2023"
   ]
  },
  {
   "cell_type": "code",
   "execution_count": null,
   "metadata": {},
   "outputs": [],
   "source": [
    "# Calculate number of reviews compared to city (i.e., which cities see most reviews which see least) in 2020"
   ]
  },
  {
   "cell_type": "code",
   "execution_count": null,
   "metadata": {},
   "outputs": [],
   "source": [
    "# Use weather API key to compare within city"
   ]
  },
  {
   "cell_type": "markdown",
   "metadata": {},
   "source": [
    "## Comparing AirBnB rentals in 2020 and 2023\n",
    "\n",
    "- Compare 2020 to 2023 number of rentals\n",
    "- Compare 2020 to 2023 price of rentals\n",
    "- Compare 2020 to 2023 reviews of rentals\n",
    "- Compare 2020 to 2023 % of availability \n",
    "- Compare 2020 to 2023 avg. minimum number of nights booked"
   ]
  },
  {
   "cell_type": "code",
   "execution_count": null,
   "metadata": {},
   "outputs": [],
   "source": [
    "# Compare 2020 to 2023 total number of rentals"
   ]
  },
  {
   "cell_type": "code",
   "execution_count": null,
   "metadata": {},
   "outputs": [],
   "source": [
    "# Compare 2020 to 2023 avg. price of rentals"
   ]
  },
  {
   "cell_type": "code",
   "execution_count": null,
   "metadata": {},
   "outputs": [],
   "source": [
    "# Compare 2020 to 2023 avg. number of reviews of rentals"
   ]
  },
  {
   "cell_type": "code",
   "execution_count": null,
   "metadata": {},
   "outputs": [],
   "source": [
    "# Compare 2020 to 2023 % of availability for rentals"
   ]
  },
  {
   "cell_type": "code",
   "execution_count": null,
   "metadata": {},
   "outputs": [],
   "source": [
    "# Compare 2020 to 2023 avg. minimum number of nights booked"
   ]
  },
  {
   "cell_type": "code",
   "execution_count": null,
   "metadata": {},
   "outputs": [],
   "source": [
    "# Create summary table comparing 2020 to 2023 AirBnB data"
   ]
  }
 ],
 "metadata": {
  "anaconda-cloud": {},
  "kernel_info": {
   "name": "python3"
  },
  "kernelspec": {
   "display_name": "PythonData",
   "language": "python",
   "name": "python3"
  },
  "language_info": {
   "codemirror_mode": {
    "name": "ipython",
    "version": 3
   },
   "file_extension": ".py",
   "mimetype": "text/x-python",
   "name": "python",
   "nbconvert_exporter": "python",
   "pygments_lexer": "ipython3",
   "version": "3.11.7"
  },
  "latex_envs": {
   "LaTeX_envs_menu_present": true,
   "autoclose": false,
   "autocomplete": true,
   "bibliofile": "biblio.bib",
   "cite_by": "apalike",
   "current_citInitial": 1,
   "eqLabelWithNumbers": true,
   "eqNumInitial": 1,
   "hotkeys": {
    "equation": "Ctrl-E",
    "itemize": "Ctrl-I"
   },
   "labels_anchors": false,
   "latex_user_defs": false,
   "report_style_numbering": false,
   "user_envs_cfg": false
  },
  "nteract": {
   "version": "0.8.4"
  },
  "vscode": {
   "interpreter": {
    "hash": "5384d77d82de63fd599f73e77f9ec786e7719288bf80a29ec0288c670ac3cf32"
   }
  }
 },
 "nbformat": 4,
 "nbformat_minor": 4
}
