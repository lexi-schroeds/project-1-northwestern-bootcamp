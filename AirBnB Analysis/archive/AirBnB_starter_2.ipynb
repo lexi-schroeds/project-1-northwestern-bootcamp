{
 "cells": [
  {
   "attachments": {},
   "cell_type": "markdown",
   "metadata": {},
   "source": [
    "## AirBnB Analysis\n",
    "<i> Summary of the AirBnB data - to be filled in once below complete </i>"
   ]
  },
  {
   "cell_type": "markdown",
   "metadata": {},
   "source": [
    "## Setup"
   ]
  },
  {
   "cell_type": "code",
   "execution_count": 33,
   "metadata": {},
   "outputs": [
    {
     "data": {
      "text/html": [
       "<div>\n",
       "<style scoped>\n",
       "    .dataframe tbody tr th:only-of-type {\n",
       "        vertical-align: middle;\n",
       "    }\n",
       "\n",
       "    .dataframe tbody tr th {\n",
       "        vertical-align: top;\n",
       "    }\n",
       "\n",
       "    .dataframe thead th {\n",
       "        text-align: right;\n",
       "    }\n",
       "</style>\n",
       "<table border=\"1\" class=\"dataframe\">\n",
       "  <thead>\n",
       "    <tr style=\"text-align: right;\">\n",
       "      <th></th>\n",
       "      <th>year</th>\n",
       "      <th>id</th>\n",
       "      <th>name</th>\n",
       "      <th>host_id</th>\n",
       "      <th>host_name</th>\n",
       "      <th>neighbourhood_group</th>\n",
       "      <th>neighbourhood</th>\n",
       "      <th>latitude</th>\n",
       "      <th>longitude</th>\n",
       "      <th>room_type</th>\n",
       "      <th>price</th>\n",
       "      <th>minimum_nights</th>\n",
       "      <th>number_of_reviews</th>\n",
       "      <th>last_review</th>\n",
       "      <th>reviews_per_month</th>\n",
       "      <th>calculated_host_listings_count</th>\n",
       "      <th>availability_365</th>\n",
       "      <th>city</th>\n",
       "    </tr>\n",
       "  </thead>\n",
       "  <tbody>\n",
       "    <tr>\n",
       "      <th>0</th>\n",
       "      <td>2020</td>\n",
       "      <td>38585</td>\n",
       "      <td>Charming Victorian home - twin beds + breakfast</td>\n",
       "      <td>165529</td>\n",
       "      <td>Evelyne</td>\n",
       "      <td>NaN</td>\n",
       "      <td>28804</td>\n",
       "      <td>35.65146</td>\n",
       "      <td>-82.62792</td>\n",
       "      <td>Private room</td>\n",
       "      <td>60</td>\n",
       "      <td>1</td>\n",
       "      <td>138</td>\n",
       "      <td>16/02/20</td>\n",
       "      <td>1.14</td>\n",
       "      <td>1</td>\n",
       "      <td>0</td>\n",
       "      <td>Asheville</td>\n",
       "    </tr>\n",
       "    <tr>\n",
       "      <th>1</th>\n",
       "      <td>2020</td>\n",
       "      <td>80905</td>\n",
       "      <td>French Chic Loft</td>\n",
       "      <td>427027</td>\n",
       "      <td>Celeste</td>\n",
       "      <td>NaN</td>\n",
       "      <td>28801</td>\n",
       "      <td>35.59779</td>\n",
       "      <td>-82.55540</td>\n",
       "      <td>Entire home/apt</td>\n",
       "      <td>470</td>\n",
       "      <td>1</td>\n",
       "      <td>114</td>\n",
       "      <td>7/9/2020</td>\n",
       "      <td>1.03</td>\n",
       "      <td>11</td>\n",
       "      <td>288</td>\n",
       "      <td>Asheville</td>\n",
       "    </tr>\n",
       "    <tr>\n",
       "      <th>2</th>\n",
       "      <td>2020</td>\n",
       "      <td>108061</td>\n",
       "      <td>Walk to stores/parks/downtown. Fenced yard/Pet...</td>\n",
       "      <td>320564</td>\n",
       "      <td>Lisa</td>\n",
       "      <td>NaN</td>\n",
       "      <td>28801</td>\n",
       "      <td>35.60670</td>\n",
       "      <td>-82.55563</td>\n",
       "      <td>Entire home/apt</td>\n",
       "      <td>75</td>\n",
       "      <td>30</td>\n",
       "      <td>89</td>\n",
       "      <td>30/11/19</td>\n",
       "      <td>0.81</td>\n",
       "      <td>2</td>\n",
       "      <td>298</td>\n",
       "      <td>Asheville</td>\n",
       "    </tr>\n",
       "    <tr>\n",
       "      <th>3</th>\n",
       "      <td>2020</td>\n",
       "      <td>155305</td>\n",
       "      <td>Cottage! BonPaul + Sharky's Hostel</td>\n",
       "      <td>746673</td>\n",
       "      <td>BonPaul</td>\n",
       "      <td>NaN</td>\n",
       "      <td>28806</td>\n",
       "      <td>35.57864</td>\n",
       "      <td>-82.59578</td>\n",
       "      <td>Entire home/apt</td>\n",
       "      <td>90</td>\n",
       "      <td>1</td>\n",
       "      <td>267</td>\n",
       "      <td>22/09/20</td>\n",
       "      <td>2.39</td>\n",
       "      <td>5</td>\n",
       "      <td>0</td>\n",
       "      <td>Asheville</td>\n",
       "    </tr>\n",
       "    <tr>\n",
       "      <th>4</th>\n",
       "      <td>2020</td>\n",
       "      <td>160594</td>\n",
       "      <td>Historic Grove Park</td>\n",
       "      <td>769252</td>\n",
       "      <td>Elizabeth</td>\n",
       "      <td>NaN</td>\n",
       "      <td>28801</td>\n",
       "      <td>35.61442</td>\n",
       "      <td>-82.54127</td>\n",
       "      <td>Private room</td>\n",
       "      <td>125</td>\n",
       "      <td>30</td>\n",
       "      <td>58</td>\n",
       "      <td>19/10/15</td>\n",
       "      <td>0.52</td>\n",
       "      <td>1</td>\n",
       "      <td>0</td>\n",
       "      <td>Asheville</td>\n",
       "    </tr>\n",
       "  </tbody>\n",
       "</table>\n",
       "</div>"
      ],
      "text/plain": [
       "   year      id                                               name  host_id  \\\n",
       "0  2020   38585    Charming Victorian home - twin beds + breakfast   165529   \n",
       "1  2020   80905                                   French Chic Loft   427027   \n",
       "2  2020  108061  Walk to stores/parks/downtown. Fenced yard/Pet...   320564   \n",
       "3  2020  155305                 Cottage! BonPaul + Sharky's Hostel   746673   \n",
       "4  2020  160594                                Historic Grove Park   769252   \n",
       "\n",
       "   host_name neighbourhood_group neighbourhood  latitude  longitude  \\\n",
       "0    Evelyne                 NaN         28804  35.65146  -82.62792   \n",
       "1    Celeste                 NaN         28801  35.59779  -82.55540   \n",
       "2       Lisa                 NaN         28801  35.60670  -82.55563   \n",
       "3    BonPaul                 NaN         28806  35.57864  -82.59578   \n",
       "4  Elizabeth                 NaN         28801  35.61442  -82.54127   \n",
       "\n",
       "         room_type  price  minimum_nights  number_of_reviews last_review  \\\n",
       "0     Private room     60               1                138    16/02/20   \n",
       "1  Entire home/apt    470               1                114    7/9/2020   \n",
       "2  Entire home/apt     75              30                 89    30/11/19   \n",
       "3  Entire home/apt     90               1                267    22/09/20   \n",
       "4     Private room    125              30                 58    19/10/15   \n",
       "\n",
       "   reviews_per_month  calculated_host_listings_count  availability_365  \\\n",
       "0               1.14                               1                 0   \n",
       "1               1.03                              11               288   \n",
       "2               0.81                               2               298   \n",
       "3               2.39                               5                 0   \n",
       "4               0.52                               1                 0   \n",
       "\n",
       "        city  \n",
       "0  Asheville  \n",
       "1  Asheville  \n",
       "2  Asheville  \n",
       "3  Asheville  \n",
       "4  Asheville  "
      ]
     },
     "execution_count": 33,
     "metadata": {},
     "output_type": "execute_result"
    }
   ],
   "source": [
    "# Dependencies and Setup\n",
    "import pandas as pd\n",
    "from pathlib import Path\n",
    "import matplotlib.pyplot as plt\n",
    "import numpy as np\n",
    "import warnings\n",
    "warnings.filterwarnings('ignore')\n",
    "import shutil\n",
    "shutil.copyfile('AirBnb_starter.ipynb','Vlad_1.ipynb')\n",
    "\n",
    "\n",
    "\n",
    "# File to Load (Remember to Change These)\n",
    "#airbnb_2020_data_to_load = Path(\"../resources/AB_US_2020.csv\")\n",
    "#airbnb_2023_data_to_load = Path(\"../resources/AB_US_2023.csv\")\n",
    "\n",
    "# Read 2020 and 2023 AirBnB Data Files and store into Pandas DataFrames\n",
    "AirBnB_2020_data = pd.read_csv(\"../AirBnB Analysis/resources/AB_US_2020.csv\")\n",
    "AirBnB_2023_data = pd.read_csv(\"../AirBnB Analysis/resources/AB_US_2023.csv\")\n",
    "\n",
    "# Combine the data into a single dataset.\n",
    "AirBnB_data_complete = pd.merge(AirBnB_2020_data, AirBnB_2023_data,on=\"year\", how=\"left\", )\n",
    "#AirBnB_data_complete.head()\n",
    "#AirBnB_2020_data.drop(['id','host_id','neighbourhood_group','host_id'],axis=1)\n",
    "AirBnB_2020_data.head(5)\n",
    "#AirBnB_2023_data.head()\n",
    "#AirBnB_data_complete.columns\n",
    "#AirBnB_data_complete.info()\n",
    "\n",
    "#df_2020=AirBnB_2020_data.set_index(\"year\")\n",
    "#df_2020.head()\n",
    "\n",
    "#AirBnB_data_complete.describe()\n",
    "\n",
    "\n"
   ]
  },
  {
   "cell_type": "markdown",
   "metadata": {},
   "source": [
    "## Customer Demand Summary - 2020\n",
    "\n",
    "For the purposes of this analysis, popularity is determined by the % availability and expensive by avg. price per city \n",
    "- Analyze most popular Top 10 cities in U.S. = low % availability (i.e., 0/365 days available = 0% availability) in 2020\n",
    "- Analyze least popular Bottom 10 cities in U.S. = high % availability (i.e., 365/365 days available = 100% availability) in 2020\n",
    "- Analyze most expensive Top 10 cities in U.S. = top 10 cities with highest avg. prices of AirBnB per city in 2020\n",
    "- Analyze least expensive Bottom 10 cities in U.S. =  bottom 10 cities with highest avg. prices of AirBnB per city in 2020\n"
   ]
  },
  {
   "cell_type": "code",
   "execution_count": 34,
   "metadata": {},
   "outputs": [
    {
     "data": {
      "text/plain": [
       "226029"
      ]
     },
     "execution_count": 34,
     "metadata": {},
     "output_type": "execute_result"
    }
   ],
   "source": [
    "# Calculate the total number of unique AirBnBs grouped by City\n",
    "AirBnB_count = AirBnB_data_complete[\"id_x\"].nunique()\n",
    "AirBnB_count\n"
   ]
  },
  {
   "cell_type": "code",
   "execution_count": 35,
   "metadata": {},
   "outputs": [],
   "source": [
    "#Calculate popularity of cities in U.S. by calculating availability per AirBnB grouped by City\n",
    "\n",
    "#Display Most Popular Cities (i.e., Top 10) with lowest % availability"
   ]
  },
  {
   "cell_type": "code",
   "execution_count": 36,
   "metadata": {},
   "outputs": [],
   "source": [
    "#Display Least Popular Cities (i.e., Bottom 10) with highest % availability"
   ]
  },
  {
   "cell_type": "code",
   "execution_count": 37,
   "metadata": {},
   "outputs": [],
   "source": [
    "#Calculate avg. price per AirBnB grouped by City\n",
    "\n",
    "#Display Most Expensive Cities (i.e., Top 10 highest avg. price of AirBnB)"
   ]
  },
  {
   "cell_type": "code",
   "execution_count": 38,
   "metadata": {},
   "outputs": [],
   "source": [
    "#Display Least Expensive Cities (i.e., Bottom 10 lowest avg. price of AirBnB)"
   ]
  },
  {
   "cell_type": "markdown",
   "metadata": {},
   "source": [
    "## Customer Demand Summary - 2023\n",
    "\n",
    "For the purposes of this analysis, popularity is determined by the % availability and expensive by avg. price per city \n",
    "- Analyze most popular Top 10 cities in U.S. = low % availability (i.e., 0/365 days available = 0% availability) in 2023\n",
    "- Analyze least popular Bottom 10 cities in U.S. = high % availability (i.e., 365/365 days available = 100% availability) in 2023\n",
    "- Analyze most expensive Top 10 cities in U.S. = top 10 cities with highest avg. prices of AirBnB per city in 2023\n",
    "- Analyze least expensive Bottom 10 cities in U.S. =  bottom 10 cities with highest avg. prices of AirBnB per city in 2023\n"
   ]
  },
  {
   "cell_type": "code",
   "execution_count": 39,
   "metadata": {},
   "outputs": [
    {
     "data": {
      "text/plain": [
       "226029"
      ]
     },
     "execution_count": 39,
     "metadata": {},
     "output_type": "execute_result"
    }
   ],
   "source": [
    "# Calculate the total number of unique AirBnBs grouped by City\n",
    "AirBnB_count = AirBnB_data_complete[\"id_x\"].nunique()\n",
    "AirBnB_count\n"
   ]
  },
  {
   "cell_type": "code",
   "execution_count": 40,
   "metadata": {},
   "outputs": [
    {
     "data": {
      "text/html": [
       "<div>\n",
       "<style scoped>\n",
       "    .dataframe tbody tr th:only-of-type {\n",
       "        vertical-align: middle;\n",
       "    }\n",
       "\n",
       "    .dataframe tbody tr th {\n",
       "        vertical-align: top;\n",
       "    }\n",
       "\n",
       "    .dataframe thead th {\n",
       "        text-align: right;\n",
       "    }\n",
       "</style>\n",
       "<table border=\"1\" class=\"dataframe\">\n",
       "  <thead>\n",
       "    <tr style=\"text-align: right;\">\n",
       "      <th></th>\n",
       "      <th>year</th>\n",
       "      <th>name</th>\n",
       "      <th>host_name</th>\n",
       "      <th>latitude</th>\n",
       "      <th>longitude</th>\n",
       "      <th>room_type</th>\n",
       "      <th>price</th>\n",
       "      <th>minimum_nights</th>\n",
       "      <th>number_of_reviews</th>\n",
       "      <th>last_review</th>\n",
       "      <th>reviews_per_month</th>\n",
       "      <th>calculated_host_listings_count</th>\n",
       "      <th>availability_365</th>\n",
       "      <th>city</th>\n",
       "    </tr>\n",
       "  </thead>\n",
       "  <tbody>\n",
       "    <tr>\n",
       "      <th>0</th>\n",
       "      <td>2020</td>\n",
       "      <td>Charming Victorian home - twin beds + breakfast</td>\n",
       "      <td>Evelyne</td>\n",
       "      <td>35.65146</td>\n",
       "      <td>-82.62792</td>\n",
       "      <td>Private room</td>\n",
       "      <td>60</td>\n",
       "      <td>1</td>\n",
       "      <td>138</td>\n",
       "      <td>16/02/20</td>\n",
       "      <td>1.14</td>\n",
       "      <td>1</td>\n",
       "      <td>0</td>\n",
       "      <td>Asheville</td>\n",
       "    </tr>\n",
       "    <tr>\n",
       "      <th>1</th>\n",
       "      <td>2020</td>\n",
       "      <td>French Chic Loft</td>\n",
       "      <td>Celeste</td>\n",
       "      <td>35.59779</td>\n",
       "      <td>-82.55540</td>\n",
       "      <td>Entire home/apt</td>\n",
       "      <td>470</td>\n",
       "      <td>1</td>\n",
       "      <td>114</td>\n",
       "      <td>7/9/2020</td>\n",
       "      <td>1.03</td>\n",
       "      <td>11</td>\n",
       "      <td>288</td>\n",
       "      <td>Asheville</td>\n",
       "    </tr>\n",
       "    <tr>\n",
       "      <th>2</th>\n",
       "      <td>2020</td>\n",
       "      <td>Walk to stores/parks/downtown. Fenced yard/Pet...</td>\n",
       "      <td>Lisa</td>\n",
       "      <td>35.60670</td>\n",
       "      <td>-82.55563</td>\n",
       "      <td>Entire home/apt</td>\n",
       "      <td>75</td>\n",
       "      <td>30</td>\n",
       "      <td>89</td>\n",
       "      <td>30/11/19</td>\n",
       "      <td>0.81</td>\n",
       "      <td>2</td>\n",
       "      <td>298</td>\n",
       "      <td>Asheville</td>\n",
       "    </tr>\n",
       "    <tr>\n",
       "      <th>3</th>\n",
       "      <td>2020</td>\n",
       "      <td>Cottage! BonPaul + Sharky's Hostel</td>\n",
       "      <td>BonPaul</td>\n",
       "      <td>35.57864</td>\n",
       "      <td>-82.59578</td>\n",
       "      <td>Entire home/apt</td>\n",
       "      <td>90</td>\n",
       "      <td>1</td>\n",
       "      <td>267</td>\n",
       "      <td>22/09/20</td>\n",
       "      <td>2.39</td>\n",
       "      <td>5</td>\n",
       "      <td>0</td>\n",
       "      <td>Asheville</td>\n",
       "    </tr>\n",
       "    <tr>\n",
       "      <th>4</th>\n",
       "      <td>2020</td>\n",
       "      <td>Historic Grove Park</td>\n",
       "      <td>Elizabeth</td>\n",
       "      <td>35.61442</td>\n",
       "      <td>-82.54127</td>\n",
       "      <td>Private room</td>\n",
       "      <td>125</td>\n",
       "      <td>30</td>\n",
       "      <td>58</td>\n",
       "      <td>19/10/15</td>\n",
       "      <td>0.52</td>\n",
       "      <td>1</td>\n",
       "      <td>0</td>\n",
       "      <td>Asheville</td>\n",
       "    </tr>\n",
       "  </tbody>\n",
       "</table>\n",
       "</div>"
      ],
      "text/plain": [
       "   year                                               name  host_name  \\\n",
       "0  2020    Charming Victorian home - twin beds + breakfast    Evelyne   \n",
       "1  2020                                   French Chic Loft    Celeste   \n",
       "2  2020  Walk to stores/parks/downtown. Fenced yard/Pet...       Lisa   \n",
       "3  2020                 Cottage! BonPaul + Sharky's Hostel    BonPaul   \n",
       "4  2020                                Historic Grove Park  Elizabeth   \n",
       "\n",
       "   latitude  longitude        room_type  price  minimum_nights  \\\n",
       "0  35.65146  -82.62792     Private room     60               1   \n",
       "1  35.59779  -82.55540  Entire home/apt    470               1   \n",
       "2  35.60670  -82.55563  Entire home/apt     75              30   \n",
       "3  35.57864  -82.59578  Entire home/apt     90               1   \n",
       "4  35.61442  -82.54127     Private room    125              30   \n",
       "\n",
       "   number_of_reviews last_review  reviews_per_month  \\\n",
       "0                138    16/02/20               1.14   \n",
       "1                114    7/9/2020               1.03   \n",
       "2                 89    30/11/19               0.81   \n",
       "3                267    22/09/20               2.39   \n",
       "4                 58    19/10/15               0.52   \n",
       "\n",
       "   calculated_host_listings_count  availability_365       city  \n",
       "0                               1                 0  Asheville  \n",
       "1                              11               288  Asheville  \n",
       "2                               2               298  Asheville  \n",
       "3                               5                 0  Asheville  \n",
       "4                               1                 0  Asheville  "
      ]
     },
     "execution_count": 40,
     "metadata": {},
     "output_type": "execute_result"
    }
   ],
   "source": [
    "del AirBnB_2020_data[\"neighbourhood_group\"]\n",
    "del AirBnB_2020_data[\"host_id\"]\n",
    "del AirBnB_2020_data[\"id\"]\n",
    "del AirBnB_2020_data[\"neighbourhood\"]\n",
    "AirBnB_2020_data.head()"
   ]
  },
  {
   "cell_type": "code",
   "execution_count": 41,
   "metadata": {},
   "outputs": [
    {
     "data": {
      "text/html": [
       "<div>\n",
       "<style scoped>\n",
       "    .dataframe tbody tr th:only-of-type {\n",
       "        vertical-align: middle;\n",
       "    }\n",
       "\n",
       "    .dataframe tbody tr th {\n",
       "        vertical-align: top;\n",
       "    }\n",
       "\n",
       "    .dataframe thead th {\n",
       "        text-align: right;\n",
       "    }\n",
       "</style>\n",
       "<table border=\"1\" class=\"dataframe\">\n",
       "  <thead>\n",
       "    <tr style=\"text-align: right;\">\n",
       "      <th></th>\n",
       "      <th>year</th>\n",
       "      <th>name</th>\n",
       "      <th>host_name</th>\n",
       "      <th>latitude</th>\n",
       "      <th>longitude</th>\n",
       "      <th>room_type</th>\n",
       "      <th>price</th>\n",
       "      <th>minimum_nights</th>\n",
       "      <th>number_of_reviews</th>\n",
       "      <th>last_review</th>\n",
       "      <th>reviews_per_month</th>\n",
       "      <th>calculated_host_listings_count</th>\n",
       "      <th>availability_365</th>\n",
       "      <th>number_of_reviews_ltm</th>\n",
       "      <th>city</th>\n",
       "    </tr>\n",
       "  </thead>\n",
       "  <tbody>\n",
       "    <tr>\n",
       "      <th>0</th>\n",
       "      <td>2023</td>\n",
       "      <td>Bright, Modern Garden Unit - 1BR/1BTH</td>\n",
       "      <td>Holly</td>\n",
       "      <td>37.77028</td>\n",
       "      <td>-122.43317</td>\n",
       "      <td>Entire home/apt</td>\n",
       "      <td>202</td>\n",
       "      <td>2</td>\n",
       "      <td>383</td>\n",
       "      <td>2/19/2023</td>\n",
       "      <td>2.31</td>\n",
       "      <td>1</td>\n",
       "      <td>128</td>\n",
       "      <td>59</td>\n",
       "      <td>San Francisco</td>\n",
       "    </tr>\n",
       "    <tr>\n",
       "      <th>1</th>\n",
       "      <td>2023</td>\n",
       "      <td>Creative Sanctuary</td>\n",
       "      <td>Philip And Tania</td>\n",
       "      <td>37.74474</td>\n",
       "      <td>-122.42089</td>\n",
       "      <td>Entire home/apt</td>\n",
       "      <td>235</td>\n",
       "      <td>30</td>\n",
       "      <td>111</td>\n",
       "      <td>8/6/2017</td>\n",
       "      <td>0.66</td>\n",
       "      <td>1</td>\n",
       "      <td>365</td>\n",
       "      <td>0</td>\n",
       "      <td>San Francisco</td>\n",
       "    </tr>\n",
       "  </tbody>\n",
       "</table>\n",
       "</div>"
      ],
      "text/plain": [
       "   year                                   name         host_name  latitude  \\\n",
       "0  2023  Bright, Modern Garden Unit - 1BR/1BTH             Holly  37.77028   \n",
       "1  2023                     Creative Sanctuary  Philip And Tania  37.74474   \n",
       "\n",
       "   longitude        room_type  price  minimum_nights  number_of_reviews  \\\n",
       "0 -122.43317  Entire home/apt    202               2                383   \n",
       "1 -122.42089  Entire home/apt    235              30                111   \n",
       "\n",
       "  last_review  reviews_per_month  calculated_host_listings_count  \\\n",
       "0   2/19/2023               2.31                               1   \n",
       "1    8/6/2017               0.66                               1   \n",
       "\n",
       "   availability_365  number_of_reviews_ltm           city  \n",
       "0               128                     59  San Francisco  \n",
       "1               365                      0  San Francisco  "
      ]
     },
     "execution_count": 41,
     "metadata": {},
     "output_type": "execute_result"
    }
   ],
   "source": [
    "del AirBnB_2023_data[\"neighbourhood_group\"]\n",
    "del AirBnB_2023_data[\"host_id\"]\n",
    "del AirBnB_2023_data[\"id\"]\n",
    "del AirBnB_2023_data[\"neighbourhood\"]\n",
    "AirBnB_2023_data.head(2)"
   ]
  },
  {
   "cell_type": "code",
   "execution_count": 42,
   "metadata": {},
   "outputs": [
    {
     "data": {
      "text/plain": [
       "city\n",
       "Asheville            0\n",
       "Asheville          288\n",
       "Asheville          298\n",
       "Asheville            0\n",
       "Asheville            0\n",
       "                  ... \n",
       "Washington D.C.     99\n",
       "Washington D.C.    300\n",
       "Washington D.C.    173\n",
       "Washington D.C.    362\n",
       "Washington D.C.     62\n",
       "Name: availability_365, Length: 226030, dtype: int64"
      ]
     },
     "execution_count": 42,
     "metadata": {},
     "output_type": "execute_result"
    }
   ],
   "source": [
    "popularity_2020=AirBnB_2020_data.set_index([\"city\"])[\"availability_365\"]\n",
    "popularity_2020"
   ]
  },
  {
   "cell_type": "code",
   "execution_count": 43,
   "metadata": {},
   "outputs": [
    {
     "data": {
      "text/plain": [
       "city\n",
       "San Francisco       128\n",
       "San Francisco       365\n",
       "San Francisco       365\n",
       "San Francisco       365\n",
       "San Francisco       159\n",
       "                   ... \n",
       "San Mateo County    365\n",
       "San Mateo County    364\n",
       "San Mateo County    359\n",
       "San Mateo County     67\n",
       "San Mateo County     69\n",
       "Name: availability_365, Length: 232147, dtype: int64"
      ]
     },
     "execution_count": 43,
     "metadata": {},
     "output_type": "execute_result"
    }
   ],
   "source": [
    "popularity_2023=AirBnB_2023_data.set_index([\"city\"])[\"availability_365\"]\n",
    "popularity_2023"
   ]
  },
  {
   "cell_type": "code",
   "execution_count": 44,
   "metadata": {},
   "outputs": [
    {
     "data": {
      "text/plain": [
       "city\n",
       "Asheville            0\n",
       "Asheville          288\n",
       "Asheville          298\n",
       "Asheville            0\n",
       "Asheville            0\n",
       "                  ... \n",
       "Washington D.C.     99\n",
       "Washington D.C.    300\n",
       "Washington D.C.    173\n",
       "Washington D.C.    362\n",
       "Washington D.C.     62\n",
       "Name: availability_365, Length: 226030, dtype: int64"
      ]
     },
     "execution_count": 44,
     "metadata": {},
     "output_type": "execute_result"
    }
   ],
   "source": [
    "\n",
    "total_nights_per_city_2020=AirBnB_2020_data.set_index([\"city\"])[\"availability_365\"]\n",
    "\n",
    "total_nights_per_city_2020"
   ]
  },
  {
   "cell_type": "code",
   "execution_count": 45,
   "metadata": {},
   "outputs": [
    {
     "data": {
      "text/plain": [
       "city\n",
       "San Francisco       128\n",
       "San Francisco       365\n",
       "San Francisco       365\n",
       "San Francisco       365\n",
       "San Francisco       159\n",
       "                   ... \n",
       "San Mateo County    365\n",
       "San Mateo County    364\n",
       "San Mateo County    359\n",
       "San Mateo County     67\n",
       "San Mateo County     69\n",
       "Name: availability_365, Length: 232147, dtype: int64"
      ]
     },
     "execution_count": 45,
     "metadata": {},
     "output_type": "execute_result"
    }
   ],
   "source": [
    "total_nights_per_city_2023=AirBnB_2023_data.set_index([\"city\"])[\"availability_365\"]\n",
    "total_nights_per_city_2023"
   ]
  },
  {
   "cell_type": "code",
   "execution_count": 46,
   "metadata": {},
   "outputs": [
    {
     "data": {
      "text/plain": [
       "city\n",
       "New York City        45756\n",
       "Los Angeles          31536\n",
       "Hawaii               22434\n",
       "San Diego            12404\n",
       "Broward County       10858\n",
       "Austin               10436\n",
       "Clark County          8408\n",
       "Washington D.C.       7350\n",
       "San Clara Country     7091\n",
       "San Francisco         7053\n",
       "Seattle               6575\n",
       "Twin Cities MSA       6470\n",
       "New Orleans           6408\n",
       "Chicago               6397\n",
       "Nashville             6139\n",
       "Portland              4281\n",
       "Denver                4200\n",
       "Rhode Island          3884\n",
       "Boston                3339\n",
       "Oakland               3204\n",
       "San Mateo County      2855\n",
       "Jersey City           2488\n",
       "Asheville             2074\n",
       "Santa Cruz County     1571\n",
       "Columbus              1409\n",
       "Cambridge             1029\n",
       "Salem                  202\n",
       "Pacific Grove          179\n",
       "Name: count, dtype: int64"
      ]
     },
     "execution_count": 46,
     "metadata": {},
     "output_type": "execute_result"
    }
   ],
   "source": [
    "cities_2020=AirBnB_2020_data[\"city\"].value_counts()\n",
    "cities_2020"
   ]
  },
  {
   "cell_type": "code",
   "execution_count": 47,
   "metadata": {},
   "outputs": [
    {
     "data": {
      "text/plain": [
       "city\n",
       "New York City         42931\n",
       "Los Angeles           42451\n",
       "Broward County        16899\n",
       "Austin                14368\n",
       "Clark County          13933\n",
       "San Diego             12871\n",
       "Nashville              8548\n",
       "Chicago                7747\n",
       "New Orleans            7056\n",
       "San Francisco          6936\n",
       "Santa Clara County     6528\n",
       "Washington D.C.        6455\n",
       "Seattle                6376\n",
       "Denver                 5362\n",
       "Twin Cities MSA        4765\n",
       "Rhode Island           4742\n",
       "Portland               4587\n",
       "Boston                 3864\n",
       "San Mateo County       3237\n",
       "Asheville              3161\n",
       "Oakland                2499\n",
       "Columbus               2344\n",
       "Santa Cruz County      1639\n",
       "Jersey City            1314\n",
       "Cambridge              1026\n",
       "Salem                   288\n",
       "Pacific Grove           220\n",
       "Name: count, dtype: int64"
      ]
     },
     "execution_count": 47,
     "metadata": {},
     "output_type": "execute_result"
    }
   ],
   "source": [
    "cities_2023=AirBnB_2023_data[\"city\"].value_counts()\n",
    "cities_2023"
   ]
  },
  {
   "cell_type": "code",
   "execution_count": 48,
   "metadata": {},
   "outputs": [
    {
     "data": {
      "text/plain": [
       "city\n",
       "Asheville            163.318226\n",
       "Austin               133.467804\n",
       "Boston               184.506739\n",
       "Broward County       198.968410\n",
       "Cambridge            134.868805\n",
       "Chicago              174.272159\n",
       "Clark County         185.548644\n",
       "Columbus             153.494677\n",
       "Denver               128.063810\n",
       "Hawaii               223.865740\n",
       "Jersey City          183.807878\n",
       "Los Angeles          173.790430\n",
       "Nashville            185.162404\n",
       "New Orleans          175.231898\n",
       "New York City        120.740733\n",
       "Oakland              115.029338\n",
       "Pacific Grove        179.692737\n",
       "Portland             151.338239\n",
       "Rhode Island         146.419670\n",
       "Salem                155.247525\n",
       "San Clara Country    168.048089\n",
       "San Diego            143.341745\n",
       "San Francisco        164.523323\n",
       "San Mateo County     172.796497\n",
       "Santa Cruz County    152.160407\n",
       "Seattle              126.358175\n",
       "Twin Cities MSA      126.314838\n",
       "Washington D.C.      140.210204\n",
       "Name: availability_365, dtype: float64"
      ]
     },
     "execution_count": 48,
     "metadata": {},
     "output_type": "execute_result"
    }
   ],
   "source": [
    "average_nights_per_city_2020=AirBnB_2020_data.groupby([\"city\"])[\"availability_365\"].mean()\n",
    "average_nights_per_city_2020"
   ]
  },
  {
   "cell_type": "code",
   "execution_count": 49,
   "metadata": {},
   "outputs": [
    {
     "data": {
      "text/plain": [
       "city\n",
       "Asheville             204.468206\n",
       "Austin                152.184090\n",
       "Boston                199.546325\n",
       "Broward County        220.365229\n",
       "Cambridge             167.894737\n",
       "Chicago               201.508842\n",
       "Clark County          193.866504\n",
       "Columbus              208.040956\n",
       "Denver                172.995897\n",
       "Jersey City           197.723744\n",
       "Los Angeles           199.957080\n",
       "Nashville             206.728358\n",
       "New Orleans           176.189059\n",
       "New York City         140.262211\n",
       "Oakland               174.199280\n",
       "Pacific Grove         193.672727\n",
       "Portland              185.903641\n",
       "Rhode Island          160.761915\n",
       "Salem                 195.517361\n",
       "San Diego             184.597700\n",
       "San Francisco         169.834198\n",
       "San Mateo County      193.307383\n",
       "Santa Clara County    192.163603\n",
       "Santa Cruz County     178.573520\n",
       "Seattle               181.394448\n",
       "Twin Cities MSA       192.452466\n",
       "Washington D.C.       171.624942\n",
       "Name: availability_365, dtype: float64"
      ]
     },
     "execution_count": 49,
     "metadata": {},
     "output_type": "execute_result"
    }
   ],
   "source": [
    "average_nights_per_city_2023=AirBnB_2023_data.groupby([\"city\"])[\"availability_365\"].mean()\n",
    "average_nights_per_city_2023"
   ]
  },
  {
   "cell_type": "code",
   "execution_count": 50,
   "metadata": {},
   "outputs": [
    {
     "data": {
      "text/html": [
       "<div>\n",
       "<style scoped>\n",
       "    .dataframe tbody tr th:only-of-type {\n",
       "        vertical-align: middle;\n",
       "    }\n",
       "\n",
       "    .dataframe tbody tr th {\n",
       "        vertical-align: top;\n",
       "    }\n",
       "\n",
       "    .dataframe thead th {\n",
       "        text-align: right;\n",
       "    }\n",
       "</style>\n",
       "<table border=\"1\" class=\"dataframe\">\n",
       "  <thead>\n",
       "    <tr style=\"text-align: right;\">\n",
       "      <th></th>\n",
       "      <th>year</th>\n",
       "      <th>name</th>\n",
       "      <th>host_name</th>\n",
       "      <th>latitude</th>\n",
       "      <th>longitude</th>\n",
       "      <th>room_type</th>\n",
       "      <th>price</th>\n",
       "      <th>minimum_nights</th>\n",
       "      <th>number_of_reviews</th>\n",
       "      <th>last_review</th>\n",
       "      <th>reviews_per_month</th>\n",
       "      <th>calculated_host_listings_count</th>\n",
       "      <th>availability_365</th>\n",
       "      <th>city</th>\n",
       "    </tr>\n",
       "  </thead>\n",
       "  <tbody>\n",
       "    <tr>\n",
       "      <th>0</th>\n",
       "      <td>2020</td>\n",
       "      <td>Charming Victorian home - twin beds + breakfast</td>\n",
       "      <td>Evelyne</td>\n",
       "      <td>35.65146</td>\n",
       "      <td>-82.62792</td>\n",
       "      <td>Private room</td>\n",
       "      <td>60</td>\n",
       "      <td>1</td>\n",
       "      <td>138</td>\n",
       "      <td>16/02/20</td>\n",
       "      <td>1.14</td>\n",
       "      <td>1</td>\n",
       "      <td>0</td>\n",
       "      <td>Asheville</td>\n",
       "    </tr>\n",
       "    <tr>\n",
       "      <th>153014</th>\n",
       "      <td>2020</td>\n",
       "      <td>A cozy apartment in a great location.</td>\n",
       "      <td>Ammar</td>\n",
       "      <td>40.78646</td>\n",
       "      <td>-73.95034</td>\n",
       "      <td>Entire home/apt</td>\n",
       "      <td>250</td>\n",
       "      <td>1</td>\n",
       "      <td>6</td>\n",
       "      <td>12/9/2019</td>\n",
       "      <td>0.46</td>\n",
       "      <td>1</td>\n",
       "      <td>0</td>\n",
       "      <td>New York City</td>\n",
       "    </tr>\n",
       "    <tr>\n",
       "      <th>152003</th>\n",
       "      <td>2020</td>\n",
       "      <td>Master bedroom in 2 bedroom garden apartment o...</td>\n",
       "      <td>Joan</td>\n",
       "      <td>40.68684</td>\n",
       "      <td>-73.99076</td>\n",
       "      <td>Private room</td>\n",
       "      <td>110</td>\n",
       "      <td>5</td>\n",
       "      <td>3</td>\n",
       "      <td>16/02/20</td>\n",
       "      <td>0.24</td>\n",
       "      <td>1</td>\n",
       "      <td>0</td>\n",
       "      <td>New York City</td>\n",
       "    </tr>\n",
       "    <tr>\n",
       "      <th>152004</th>\n",
       "      <td>2020</td>\n",
       "      <td>Chill Spacious Furnished Bedroom</td>\n",
       "      <td>Vincent</td>\n",
       "      <td>40.82371</td>\n",
       "      <td>-73.95358</td>\n",
       "      <td>Private room</td>\n",
       "      <td>60</td>\n",
       "      <td>3</td>\n",
       "      <td>10</td>\n",
       "      <td>22/10/19</td>\n",
       "      <td>0.72</td>\n",
       "      <td>1</td>\n",
       "      <td>0</td>\n",
       "      <td>New York City</td>\n",
       "    </tr>\n",
       "    <tr>\n",
       "      <th>152006</th>\n",
       "      <td>2020</td>\n",
       "      <td>Beachfront private house with amazing views</td>\n",
       "      <td>Avital</td>\n",
       "      <td>40.57962</td>\n",
       "      <td>-74.00753</td>\n",
       "      <td>Entire home/apt</td>\n",
       "      <td>215</td>\n",
       "      <td>7</td>\n",
       "      <td>4</td>\n",
       "      <td>7/9/2019</td>\n",
       "      <td>0.30</td>\n",
       "      <td>1</td>\n",
       "      <td>0</td>\n",
       "      <td>New York City</td>\n",
       "    </tr>\n",
       "    <tr>\n",
       "      <th>152008</th>\n",
       "      <td>2020</td>\n",
       "      <td>Bright Williamsburg duplex</td>\n",
       "      <td>Manon</td>\n",
       "      <td>40.70731</td>\n",
       "      <td>-73.94826</td>\n",
       "      <td>Entire home/apt</td>\n",
       "      <td>200</td>\n",
       "      <td>4</td>\n",
       "      <td>3</td>\n",
       "      <td>1/1/2020</td>\n",
       "      <td>0.23</td>\n",
       "      <td>2</td>\n",
       "      <td>0</td>\n",
       "      <td>New York City</td>\n",
       "    </tr>\n",
       "    <tr>\n",
       "      <th>152010</th>\n",
       "      <td>2020</td>\n",
       "      <td>Charming two-bedroom Brooklyn oasis</td>\n",
       "      <td>Mary</td>\n",
       "      <td>40.69223</td>\n",
       "      <td>-73.92950</td>\n",
       "      <td>Entire home/apt</td>\n",
       "      <td>100</td>\n",
       "      <td>2</td>\n",
       "      <td>6</td>\n",
       "      <td>17/08/19</td>\n",
       "      <td>0.43</td>\n",
       "      <td>1</td>\n",
       "      <td>0</td>\n",
       "      <td>New York City</td>\n",
       "    </tr>\n",
       "    <tr>\n",
       "      <th>152015</th>\n",
       "      <td>2020</td>\n",
       "      <td>Waterfront Apartment in Prime Williamsburg.</td>\n",
       "      <td>Benz</td>\n",
       "      <td>40.70978</td>\n",
       "      <td>-73.96590</td>\n",
       "      <td>Entire home/apt</td>\n",
       "      <td>85</td>\n",
       "      <td>1</td>\n",
       "      <td>21</td>\n",
       "      <td>31/12/19</td>\n",
       "      <td>1.49</td>\n",
       "      <td>1</td>\n",
       "      <td>0</td>\n",
       "      <td>New York City</td>\n",
       "    </tr>\n",
       "    <tr>\n",
       "      <th>152017</th>\n",
       "      <td>2020</td>\n",
       "      <td>Cozy and Colorful Digs in Central Brooklyn</td>\n",
       "      <td>Valerie</td>\n",
       "      <td>40.63767</td>\n",
       "      <td>-73.95773</td>\n",
       "      <td>Private room</td>\n",
       "      <td>95</td>\n",
       "      <td>1</td>\n",
       "      <td>2</td>\n",
       "      <td>2/1/2020</td>\n",
       "      <td>0.16</td>\n",
       "      <td>1</td>\n",
       "      <td>0</td>\n",
       "      <td>New York City</td>\n",
       "    </tr>\n",
       "    <tr>\n",
       "      <th>152022</th>\n",
       "      <td>2020</td>\n",
       "      <td>Heavenly Hell's Kitchen (spatious room in 2BR)</td>\n",
       "      <td>Sebastian</td>\n",
       "      <td>40.75519</td>\n",
       "      <td>-73.99697</td>\n",
       "      <td>Private room</td>\n",
       "      <td>102</td>\n",
       "      <td>3</td>\n",
       "      <td>21</td>\n",
       "      <td>16/12/19</td>\n",
       "      <td>1.54</td>\n",
       "      <td>2</td>\n",
       "      <td>0</td>\n",
       "      <td>New York City</td>\n",
       "    </tr>\n",
       "  </tbody>\n",
       "</table>\n",
       "</div>"
      ],
      "text/plain": [
       "        year                                               name  host_name  \\\n",
       "0       2020    Charming Victorian home - twin beds + breakfast    Evelyne   \n",
       "153014  2020              A cozy apartment in a great location.      Ammar   \n",
       "152003  2020  Master bedroom in 2 bedroom garden apartment o...       Joan   \n",
       "152004  2020                   Chill Spacious Furnished Bedroom    Vincent   \n",
       "152006  2020        Beachfront private house with amazing views     Avital   \n",
       "152008  2020                         Bright Williamsburg duplex      Manon   \n",
       "152010  2020                Charming two-bedroom Brooklyn oasis       Mary   \n",
       "152015  2020        Waterfront Apartment in Prime Williamsburg.       Benz   \n",
       "152017  2020         Cozy and Colorful Digs in Central Brooklyn    Valerie   \n",
       "152022  2020     Heavenly Hell's Kitchen (spatious room in 2BR)  Sebastian   \n",
       "\n",
       "        latitude  longitude        room_type  price  minimum_nights  \\\n",
       "0       35.65146  -82.62792     Private room     60               1   \n",
       "153014  40.78646  -73.95034  Entire home/apt    250               1   \n",
       "152003  40.68684  -73.99076     Private room    110               5   \n",
       "152004  40.82371  -73.95358     Private room     60               3   \n",
       "152006  40.57962  -74.00753  Entire home/apt    215               7   \n",
       "152008  40.70731  -73.94826  Entire home/apt    200               4   \n",
       "152010  40.69223  -73.92950  Entire home/apt    100               2   \n",
       "152015  40.70978  -73.96590  Entire home/apt     85               1   \n",
       "152017  40.63767  -73.95773     Private room     95               1   \n",
       "152022  40.75519  -73.99697     Private room    102               3   \n",
       "\n",
       "        number_of_reviews last_review  reviews_per_month  \\\n",
       "0                     138    16/02/20               1.14   \n",
       "153014                  6   12/9/2019               0.46   \n",
       "152003                  3    16/02/20               0.24   \n",
       "152004                 10    22/10/19               0.72   \n",
       "152006                  4    7/9/2019               0.30   \n",
       "152008                  3    1/1/2020               0.23   \n",
       "152010                  6    17/08/19               0.43   \n",
       "152015                 21    31/12/19               1.49   \n",
       "152017                  2    2/1/2020               0.16   \n",
       "152022                 21    16/12/19               1.54   \n",
       "\n",
       "        calculated_host_listings_count  availability_365           city  \n",
       "0                                    1                 0      Asheville  \n",
       "153014                               1                 0  New York City  \n",
       "152003                               1                 0  New York City  \n",
       "152004                               1                 0  New York City  \n",
       "152006                               1                 0  New York City  \n",
       "152008                               2                 0  New York City  \n",
       "152010                               1                 0  New York City  \n",
       "152015                               1                 0  New York City  \n",
       "152017                               1                 0  New York City  \n",
       "152022                               2                 0  New York City  "
      ]
     },
     "execution_count": 50,
     "metadata": {},
     "output_type": "execute_result"
    }
   ],
   "source": [
    "most_pop_city_2020=AirBnB_2020_data.loc[AirBnB_2020_data[\"availability_365\"]<1]\n",
    "most_pop_city_2020=most_pop_city_2020.sort_values(\"availability_365\",ascending=False)\n",
    "most_pop_city_2020.head(10)"
   ]
  },
  {
   "cell_type": "code",
   "execution_count": 51,
   "metadata": {},
   "outputs": [
    {
     "data": {
      "text/html": [
       "<div>\n",
       "<style scoped>\n",
       "    .dataframe tbody tr th:only-of-type {\n",
       "        vertical-align: middle;\n",
       "    }\n",
       "\n",
       "    .dataframe tbody tr th {\n",
       "        vertical-align: top;\n",
       "    }\n",
       "\n",
       "    .dataframe thead th {\n",
       "        text-align: right;\n",
       "    }\n",
       "</style>\n",
       "<table border=\"1\" class=\"dataframe\">\n",
       "  <thead>\n",
       "    <tr style=\"text-align: right;\">\n",
       "      <th></th>\n",
       "      <th>year</th>\n",
       "      <th>name</th>\n",
       "      <th>host_name</th>\n",
       "      <th>latitude</th>\n",
       "      <th>longitude</th>\n",
       "      <th>room_type</th>\n",
       "      <th>price</th>\n",
       "      <th>minimum_nights</th>\n",
       "      <th>number_of_reviews</th>\n",
       "      <th>last_review</th>\n",
       "      <th>reviews_per_month</th>\n",
       "      <th>calculated_host_listings_count</th>\n",
       "      <th>availability_365</th>\n",
       "      <th>number_of_reviews_ltm</th>\n",
       "      <th>city</th>\n",
       "    </tr>\n",
       "  </thead>\n",
       "  <tbody>\n",
       "    <tr>\n",
       "      <th>40</th>\n",
       "      <td>2023</td>\n",
       "      <td>Secret Mission Garden</td>\n",
       "      <td>Ivan &amp; Wendy</td>\n",
       "      <td>37.760050</td>\n",
       "      <td>-122.42208</td>\n",
       "      <td>Private room</td>\n",
       "      <td>164</td>\n",
       "      <td>1</td>\n",
       "      <td>26</td>\n",
       "      <td>11/21/2019</td>\n",
       "      <td>0.28</td>\n",
       "      <td>2</td>\n",
       "      <td>0</td>\n",
       "      <td>0</td>\n",
       "      <td>San Francisco</td>\n",
       "    </tr>\n",
       "    <tr>\n",
       "      <th>110071</th>\n",
       "      <td>2023</td>\n",
       "      <td>Room For Two Short Walk To Harvard (RM 8)</td>\n",
       "      <td>Riverside</td>\n",
       "      <td>42.369130</td>\n",
       "      <td>-71.10670</td>\n",
       "      <td>Private room</td>\n",
       "      <td>120</td>\n",
       "      <td>1</td>\n",
       "      <td>7</td>\n",
       "      <td>9/20/2020</td>\n",
       "      <td>0.15</td>\n",
       "      <td>23</td>\n",
       "      <td>0</td>\n",
       "      <td>0</td>\n",
       "      <td>Cambridge</td>\n",
       "    </tr>\n",
       "    <tr>\n",
       "      <th>111998</th>\n",
       "      <td>2023</td>\n",
       "      <td>Y WK private room with own kitchen</td>\n",
       "      <td>Iris&amp;Song</td>\n",
       "      <td>37.321400</td>\n",
       "      <td>-121.93802</td>\n",
       "      <td>Private room</td>\n",
       "      <td>35</td>\n",
       "      <td>1</td>\n",
       "      <td>8</td>\n",
       "      <td>11/30/2022</td>\n",
       "      <td>1.66</td>\n",
       "      <td>39</td>\n",
       "      <td>0</td>\n",
       "      <td>8</td>\n",
       "      <td>Santa Clara County</td>\n",
       "    </tr>\n",
       "    <tr>\n",
       "      <th>112010</th>\n",
       "      <td>2023</td>\n",
       "      <td>Private bedroom in Santa Clara</td>\n",
       "      <td>Gokul</td>\n",
       "      <td>37.324750</td>\n",
       "      <td>-121.98572</td>\n",
       "      <td>Private room</td>\n",
       "      <td>50</td>\n",
       "      <td>1</td>\n",
       "      <td>0</td>\n",
       "      <td>NaN</td>\n",
       "      <td>NaN</td>\n",
       "      <td>1</td>\n",
       "      <td>0</td>\n",
       "      <td>0</td>\n",
       "      <td>Santa Clara County</td>\n",
       "    </tr>\n",
       "    <tr>\n",
       "      <th>112015</th>\n",
       "      <td>2023</td>\n",
       "      <td>Convenient comfortable modern home ez walk to ...</td>\n",
       "      <td>Jennifer Nan</td>\n",
       "      <td>37.286169</td>\n",
       "      <td>-121.98558</td>\n",
       "      <td>Entire home/apt</td>\n",
       "      <td>205</td>\n",
       "      <td>3</td>\n",
       "      <td>1</td>\n",
       "      <td>3/10/2023</td>\n",
       "      <td>1.00</td>\n",
       "      <td>1</td>\n",
       "      <td>0</td>\n",
       "      <td>1</td>\n",
       "      <td>Santa Clara County</td>\n",
       "    </tr>\n",
       "    <tr>\n",
       "      <th>112017</th>\n",
       "      <td>2023</td>\n",
       "      <td>NX1 divided by curtain queen bed</td>\n",
       "      <td>Iris&amp;Song</td>\n",
       "      <td>37.392780</td>\n",
       "      <td>-121.84000</td>\n",
       "      <td>Shared room</td>\n",
       "      <td>28</td>\n",
       "      <td>1</td>\n",
       "      <td>0</td>\n",
       "      <td>NaN</td>\n",
       "      <td>NaN</td>\n",
       "      <td>39</td>\n",
       "      <td>0</td>\n",
       "      <td>0</td>\n",
       "      <td>Santa Clara County</td>\n",
       "    </tr>\n",
       "    <tr>\n",
       "      <th>112018</th>\n",
       "      <td>2023</td>\n",
       "      <td>Xtra</td>\n",
       "      <td>Drew</td>\n",
       "      <td>37.299050</td>\n",
       "      <td>-121.97117</td>\n",
       "      <td>Shared room</td>\n",
       "      <td>35</td>\n",
       "      <td>6</td>\n",
       "      <td>25</td>\n",
       "      <td>9/25/2022</td>\n",
       "      <td>0.22</td>\n",
       "      <td>14</td>\n",
       "      <td>0</td>\n",
       "      <td>2</td>\n",
       "      <td>Santa Clara County</td>\n",
       "    </tr>\n",
       "    <tr>\n",
       "      <th>112019</th>\n",
       "      <td>2023</td>\n",
       "      <td>master bedroom suite in a house</td>\n",
       "      <td>Yong</td>\n",
       "      <td>37.330920</td>\n",
       "      <td>-121.95511</td>\n",
       "      <td>Private room</td>\n",
       "      <td>81</td>\n",
       "      <td>2</td>\n",
       "      <td>4</td>\n",
       "      <td>7/16/2017</td>\n",
       "      <td>0.04</td>\n",
       "      <td>1</td>\n",
       "      <td>0</td>\n",
       "      <td>0</td>\n",
       "      <td>Santa Clara County</td>\n",
       "    </tr>\n",
       "    <tr>\n",
       "      <th>112021</th>\n",
       "      <td>2023</td>\n",
       "      <td>Cozy sunny room San Jose Campbell</td>\n",
       "      <td>Elif</td>\n",
       "      <td>37.298710</td>\n",
       "      <td>-121.98571</td>\n",
       "      <td>Private room</td>\n",
       "      <td>59</td>\n",
       "      <td>1</td>\n",
       "      <td>13</td>\n",
       "      <td>8/2/2019</td>\n",
       "      <td>0.13</td>\n",
       "      <td>1</td>\n",
       "      <td>0</td>\n",
       "      <td>0</td>\n",
       "      <td>Santa Clara County</td>\n",
       "    </tr>\n",
       "    <tr>\n",
       "      <th>112023</th>\n",
       "      <td>2023</td>\n",
       "      <td>Leisure Room#6</td>\n",
       "      <td>Sandy</td>\n",
       "      <td>37.371420</td>\n",
       "      <td>-121.87181</td>\n",
       "      <td>Private room</td>\n",
       "      <td>80</td>\n",
       "      <td>1</td>\n",
       "      <td>0</td>\n",
       "      <td>NaN</td>\n",
       "      <td>NaN</td>\n",
       "      <td>10</td>\n",
       "      <td>0</td>\n",
       "      <td>0</td>\n",
       "      <td>Santa Clara County</td>\n",
       "    </tr>\n",
       "  </tbody>\n",
       "</table>\n",
       "</div>"
      ],
      "text/plain": [
       "        year                                               name     host_name  \\\n",
       "40      2023                              Secret Mission Garden  Ivan & Wendy   \n",
       "110071  2023          Room For Two Short Walk To Harvard (RM 8)     Riverside   \n",
       "111998  2023                 Y WK private room with own kitchen     Iris&Song   \n",
       "112010  2023                     Private bedroom in Santa Clara         Gokul   \n",
       "112015  2023  Convenient comfortable modern home ez walk to ...  Jennifer Nan   \n",
       "112017  2023                   NX1 divided by curtain queen bed     Iris&Song   \n",
       "112018  2023                                               Xtra          Drew   \n",
       "112019  2023                    master bedroom suite in a house          Yong   \n",
       "112021  2023                  Cozy sunny room San Jose Campbell          Elif   \n",
       "112023  2023                                     Leisure Room#6         Sandy   \n",
       "\n",
       "         latitude  longitude        room_type  price  minimum_nights  \\\n",
       "40      37.760050 -122.42208     Private room    164               1   \n",
       "110071  42.369130  -71.10670     Private room    120               1   \n",
       "111998  37.321400 -121.93802     Private room     35               1   \n",
       "112010  37.324750 -121.98572     Private room     50               1   \n",
       "112015  37.286169 -121.98558  Entire home/apt    205               3   \n",
       "112017  37.392780 -121.84000      Shared room     28               1   \n",
       "112018  37.299050 -121.97117      Shared room     35               6   \n",
       "112019  37.330920 -121.95511     Private room     81               2   \n",
       "112021  37.298710 -121.98571     Private room     59               1   \n",
       "112023  37.371420 -121.87181     Private room     80               1   \n",
       "\n",
       "        number_of_reviews last_review  reviews_per_month  \\\n",
       "40                     26  11/21/2019               0.28   \n",
       "110071                  7   9/20/2020               0.15   \n",
       "111998                  8  11/30/2022               1.66   \n",
       "112010                  0         NaN                NaN   \n",
       "112015                  1   3/10/2023               1.00   \n",
       "112017                  0         NaN                NaN   \n",
       "112018                 25   9/25/2022               0.22   \n",
       "112019                  4   7/16/2017               0.04   \n",
       "112021                 13    8/2/2019               0.13   \n",
       "112023                  0         NaN                NaN   \n",
       "\n",
       "        calculated_host_listings_count  availability_365  \\\n",
       "40                                   2                 0   \n",
       "110071                              23                 0   \n",
       "111998                              39                 0   \n",
       "112010                               1                 0   \n",
       "112015                               1                 0   \n",
       "112017                              39                 0   \n",
       "112018                              14                 0   \n",
       "112019                               1                 0   \n",
       "112021                               1                 0   \n",
       "112023                              10                 0   \n",
       "\n",
       "        number_of_reviews_ltm                city  \n",
       "40                          0       San Francisco  \n",
       "110071                      0           Cambridge  \n",
       "111998                      8  Santa Clara County  \n",
       "112010                      0  Santa Clara County  \n",
       "112015                      1  Santa Clara County  \n",
       "112017                      0  Santa Clara County  \n",
       "112018                      2  Santa Clara County  \n",
       "112019                      0  Santa Clara County  \n",
       "112021                      0  Santa Clara County  \n",
       "112023                      0  Santa Clara County  "
      ]
     },
     "execution_count": 51,
     "metadata": {},
     "output_type": "execute_result"
    }
   ],
   "source": [
    "most_pop_city_23=AirBnB_2023_data.loc[AirBnB_2023_data[\"availability_365\"]<1]\n",
    "most_pop_city_2023=most_pop_city_23.sort_values(\"availability_365\",ascending=False)\n",
    "most_pop_city_2023.head(10)"
   ]
  },
  {
   "cell_type": "code",
   "execution_count": 52,
   "metadata": {},
   "outputs": [
    {
     "data": {
      "text/plain": [
       "(        year                                               name   host_name  \\\n",
       " 95374   2023        Your home in Brooklyn - 1 bedroom, 1 office      Trilce   \n",
       " 72356   2023                Prime Location & Tech Entrepreneurs       Chris   \n",
       " 171905  2023  Clean & Quiet Home Mins from Popular Destinations      Austin   \n",
       " 171893  2023  3 Story/3 Bed with a Stunning Rooftop View of ATX        Samy   \n",
       " 72355   2023                 Adorable, Artsy 1BR; Hip Location!       Brinn   \n",
       " ...      ...                                                ...         ...   \n",
       " 25999   2023            Miracle MIle - 2 Bedroom and 1 Bathroom      Quincy   \n",
       " 158772  2023      STUDIO APARTAMENT FANTASTIC LOCATION WIFI GYM        Roma   \n",
       " 45064   2023   Dream House - You'll Love Spending Time at Home!        Oren   \n",
       " 97844   2023           Private large room in a shared apartment    Valentin   \n",
       " 50175   2023         Hollywood Studio w/ BBQ & Roof, prime area  Blueground   \n",
       " \n",
       "          latitude   longitude        room_type  price  minimum_nights  \\\n",
       " 95374   40.671750  -73.937880  Entire home/apt     95              30   \n",
       " 72356   40.725290  -73.990310     Private room    106              30   \n",
       " 171905  30.160650  -97.744880  Entire home/apt    200               7   \n",
       " 171893  30.292820  -97.735070  Entire home/apt    399               1   \n",
       " 72355   40.733700  -73.954200  Entire home/apt    115               7   \n",
       " ...           ...         ...              ...    ...             ...   \n",
       " 25999   34.056090 -118.352040  Entire home/apt    136              30   \n",
       " 158772  41.899770  -87.621970  Entire home/apt    110              32   \n",
       " 45064   34.151760 -118.524620  Entire home/apt   1195              30   \n",
       " 97844   40.680060  -73.891290     Private room     72              30   \n",
       " 50175   34.083725 -118.357393  Entire home/apt    182              31   \n",
       " \n",
       "         number_of_reviews last_review  reviews_per_month  \\\n",
       " 95374                   1   1/18/2022               0.07   \n",
       " 72356                   3    1/3/2016               0.03   \n",
       " 171905                  1  10/31/2022               0.22   \n",
       " 171893                 17   9/11/2022               0.99   \n",
       " 72355                  49  11/21/2021               0.82   \n",
       " ...                   ...         ...                ...   \n",
       " 25999                  17   2/20/2020               0.17   \n",
       " 158772                  0         NaN                NaN   \n",
       " 45064                   6    7/5/2021               0.18   \n",
       " 97844                   1    8/8/2022               0.14   \n",
       " 50175                   0         NaN                NaN   \n",
       " \n",
       "         calculated_host_listings_count  availability_365  \\\n",
       " 95374                                1                 0   \n",
       " 72356                                1                 0   \n",
       " 171905                               1                 0   \n",
       " 171893                               1                 0   \n",
       " 72355                                1                 0   \n",
       " ...                                ...               ...   \n",
       " 25999                                1               365   \n",
       " 158772                              32               365   \n",
       " 45064                                5               365   \n",
       " 97844                               12               365   \n",
       " 50175                              717               365   \n",
       " \n",
       "         number_of_reviews_ltm           city  \n",
       " 95374                       0  New York City  \n",
       " 72356                       0  New York City  \n",
       " 171905                      1         Austin  \n",
       " 171893                      9         Austin  \n",
       " 72355                       0  New York City  \n",
       " ...                       ...            ...  \n",
       " 25999                       0    Los Angeles  \n",
       " 158772                      0        Chicago  \n",
       " 45064                       0    Los Angeles  \n",
       " 97844                       1  New York City  \n",
       " 50175                       0    Los Angeles  \n",
       " \n",
       " [232147 rows x 15 columns],\n",
       " ['name', 'host_name'])"
      ]
     },
     "execution_count": 52,
     "metadata": {},
     "output_type": "execute_result"
    }
   ],
   "source": [
    "#Calculate popularity of cities in U.S. by calculating availability per AirBnB grouped by City\n",
    "\n",
    "availability_min_2020=AirBnB_2020_data.sort_values(\"availability_365\")\n",
    "availability_max_2020=AirBnB_2020_data.sort_values(\"availability_365\",ascending=False)\n",
    "\n",
    "availability_min_2023=AirBnB_2023_data.sort_values(\"availability_365\")\n",
    "availability_max_2023=AirBnB_2023_data.sort_values(\"availability_365\",ascending=False)\n",
    "\n",
    "#availability_min_2020.head(2)\n",
    "#availability_max_2020.head(2)\n",
    "#availability_min_2023.head(2)\n",
    "#availability_max_2023.head(2)\n",
    "#availability_cities_2020=AirBnb_2020[[\"availability_365\",\"city\"]]\n",
    "#availability_cities_2020\n",
    "less_popular_cities_2020=availability_max_2020.loc[availability_max_2020[\"availability_365\"]>=365],[\"city\",\"availability\"]\n",
    "less_popular_cities_2020\n",
    "popular_cities_2020=availability_min_2020.loc[availability_min_2020[\"availability_365\"]<=365],[\"name\",\"host_name\"]\n",
    "popular_cities_2020\n",
    "\n",
    "less_popular_cities_2023=availability_max_2023.loc[availability_max_2023[\"availability_365\"]>=365],[\"city\",\"availability\"]\n",
    "less_popular_cities_2020\n",
    "popular_cities_2023=availability_min_2023.loc[availability_min_2023[\"availability_365\"]<=365],[\"name\",\"host_name\"]\n",
    "popular_cities_2023\n",
    "\n",
    "#Display Most Popular Cities (i.e., Top 10) with lowest % availability\n"
   ]
  },
  {
   "cell_type": "code",
   "execution_count": 53,
   "metadata": {},
   "outputs": [],
   "source": [
    "#Display Least Popular Cities (i.e., Bottom 10) with highest % availability\n"
   ]
  },
  {
   "cell_type": "code",
   "execution_count": 54,
   "metadata": {},
   "outputs": [
    {
     "data": {
      "text/plain": [
       "city\n",
       "Asheville            196.639344\n",
       "Austin               269.290054\n",
       "Boston               170.331836\n",
       "Broward County       230.093295\n",
       "Cambridge            163.072886\n",
       "Chicago              153.020009\n",
       "Clark County         213.756660\n",
       "Columbus             321.718950\n",
       "Denver               158.860714\n",
       "Hawaii               309.085986\n",
       "Jersey City          137.039791\n",
       "Los Angeles          222.682046\n",
       "Nashville            215.914155\n",
       "New Orleans          174.975343\n",
       "New York City        149.557413\n",
       "Oakland              139.956617\n",
       "Pacific Grove        251.111732\n",
       "Portland             141.029666\n",
       "Rhode Island         288.720906\n",
       "Salem                247.727723\n",
       "San Clara Country    161.721760\n",
       "San Diego            318.820864\n",
       "San Francisco        252.018857\n",
       "San Mateo County     183.909282\n",
       "Santa Cruz County    257.101209\n",
       "Seattle              159.720152\n",
       "Twin Cities MSA      509.906028\n",
       "Washington D.C.      176.840816\n",
       "Name: price, dtype: float64"
      ]
     },
     "execution_count": 54,
     "metadata": {},
     "output_type": "execute_result"
    }
   ],
   "source": [
    "#Calculate avg. price per AirBnB grouped by City\n",
    "average_price_per_city_2020=AirBnB_2020_data.groupby([\"city\"])[\"price\"].mean()\n",
    "average_price_per_city_2020\n",
    "\n"
   ]
  },
  {
   "cell_type": "code",
   "execution_count": 55,
   "metadata": {},
   "outputs": [
    {
     "data": {
      "image/png": "[encoded data removed]",
      "text/plain": [
       "<Figure size 2000x400 with 1 Axes>"
      ]
     },
     "metadata": {},
     "output_type": "display_data"
    }
   ],
   "source": [
    "average_price_per_city_2020.plot(kind=\"bar\",color=\"red\",figsize=(20,4))\n",
    "plt.title(\"Average price per city 2020\")\n",
    "plt.show()"
   ]
  },
  {
   "cell_type": "code",
   "execution_count": 56,
   "metadata": {},
   "outputs": [
    {
     "data": {
      "text/plain": [
       "city\n",
       "Asheville             175.025941\n",
       "Austin                310.029928\n",
       "Boston                190.609990\n",
       "Broward County        311.754305\n",
       "Cambridge             185.720273\n",
       "Chicago               184.285917\n",
       "Clark County          441.342927\n",
       "Columbus              130.372014\n",
       "Denver                171.327490\n",
       "Jersey City           234.740487\n",
       "Los Angeles           283.333962\n",
       "Nashville             281.604001\n",
       "New Orleans           265.313067\n",
       "New York City         200.307167\n",
       "Oakland               177.290916\n",
       "Pacific Grove         289.322727\n",
       "Portland              133.889034\n",
       "Rhode Island          344.239561\n",
       "Salem                 145.892361\n",
       "San Diego             309.593505\n",
       "San Francisco         330.092561\n",
       "San Mateo County      247.205746\n",
       "Santa Clara County    195.814032\n",
       "Santa Cruz County     311.923734\n",
       "Seattle               161.835790\n",
       "Twin Cities MSA       233.205456\n",
       "Washington D.C.       187.946863\n",
       "Name: price, dtype: float64"
      ]
     },
     "execution_count": 56,
     "metadata": {},
     "output_type": "execute_result"
    }
   ],
   "source": [
    "average_price_per_city_2023=AirBnB_2023_data.groupby([\"city\"])[\"price\"].mean()\n",
    "average_price_per_city_2023"
   ]
  },
  {
   "cell_type": "code",
   "execution_count": 57,
   "metadata": {},
   "outputs": [
    {
     "data": {
      "image/png": "[encoded data removed]",
      "text/plain": [
       "<Figure size 2000x400 with 1 Axes>"
      ]
     },
     "metadata": {},
     "output_type": "display_data"
    }
   ],
   "source": [
    "average_price_per_city_2023.plot(kind=\"bar\",figsize=(20,4))\n",
    "plt.title(\"Average price per city 2023\")\n",
    "plt.show()"
   ]
  },
  {
   "cell_type": "code",
   "execution_count": 65,
   "metadata": {},
   "outputs": [
    {
     "data": {
      "text/plain": [
       "city\n",
       "Oakland            115.029338\n",
       "New York City      120.740733\n",
       "Twin Cities MSA    126.314838\n",
       "Seattle            126.358175\n",
       "Denver             128.063810\n",
       "Austin             133.467804\n",
       "Cambridge          134.868805\n",
       "Washington D.C.    140.210204\n",
       "San Diego          143.341745\n",
       "Rhode Island       146.419670\n",
       "Name: availability_365, dtype: float64"
      ]
     },
     "execution_count": 65,
     "metadata": {},
     "output_type": "execute_result"
    }
   ],
   "source": [
    "\n",
    "top_10_price_2020=average_nights_per_city_2020.sort_values()\n",
    "top_10_price_2020.head(10)\n"
   ]
  },
  {
   "cell_type": "code",
   "execution_count": 64,
   "metadata": {},
   "outputs": [
    {
     "data": {
      "image/png": "[encoded data removed]",
      "text/plain": [
       "<Figure size 2000x400 with 1 Axes>"
      ]
     },
     "metadata": {},
     "output_type": "display_data"
    }
   ],
   "source": [
    "top_10_price_2020.plot(kind=\"bar\",color=\"red\",figsize=(20,4))\n",
    "plt.title(\"Top 10 cities per price\")\n",
    "plt.show()"
   ]
  },
  {
   "cell_type": "code",
   "execution_count": 66,
   "metadata": {},
   "outputs": [
    {
     "data": {
      "text/plain": [
       "city\n",
       "Broward County    220.365229\n",
       "Columbus          208.040956\n",
       "Nashville         206.728358\n",
       "Asheville         204.468206\n",
       "Chicago           201.508842\n",
       "Los Angeles       199.957080\n",
       "Boston            199.546325\n",
       "Jersey City       197.723744\n",
       "Salem             195.517361\n",
       "Clark County      193.866504\n",
       "Name: availability_365, dtype: float64"
      ]
     },
     "execution_count": 66,
     "metadata": {},
     "output_type": "execute_result"
    }
   ],
   "source": [
    "#Display Most Expensive Cities (i.e., Top 10 highest avg. price of AirBnB)\n",
    "top_10_price_2023=average_nights_per_city_2023.sort_values(ascending=False)\n",
    "top_10_price_2023.head(10)\n"
   ]
  },
  {
   "cell_type": "code",
   "execution_count": null,
   "metadata": {},
   "outputs": [],
   "source": [
    "\n",
    "\n",
    "\n",
    "\n",
    "\n"
   ]
  },
  {
   "cell_type": "code",
   "execution_count": 67,
   "metadata": {},
   "outputs": [
    {
     "data": {
      "text/plain": [
       "city\n",
       "Oakland            115.029338\n",
       "New York City      120.740733\n",
       "Twin Cities MSA    126.314838\n",
       "Seattle            126.358175\n",
       "Denver             128.063810\n",
       "Austin             133.467804\n",
       "Cambridge          134.868805\n",
       "Washington D.C.    140.210204\n",
       "San Diego          143.341745\n",
       "Rhode Island       146.419670\n",
       "Name: availability_365, dtype: float64"
      ]
     },
     "execution_count": 67,
     "metadata": {},
     "output_type": "execute_result"
    }
   ],
   "source": [
    "#Display Least Expensive Cities (i.e., Bottom 10 lowest avg. price of AirBnB)\n",
    "lowest_10_price_2020=average_nights_per_city_2020.sort_values()\n",
    "lowest_10_price_2020.head(10)"
   ]
  },
  {
   "cell_type": "code",
   "execution_count": 68,
   "metadata": {},
   "outputs": [
    {
     "data": {
      "text/plain": [
       "city\n",
       "New York City        140.262211\n",
       "Austin               152.184090\n",
       "Rhode Island         160.761915\n",
       "Cambridge            167.894737\n",
       "San Francisco        169.834198\n",
       "Washington D.C.      171.624942\n",
       "Denver               172.995897\n",
       "Oakland              174.199280\n",
       "New Orleans          176.189059\n",
       "Santa Cruz County    178.573520\n",
       "Name: availability_365, dtype: float64"
      ]
     },
     "execution_count": 68,
     "metadata": {},
     "output_type": "execute_result"
    }
   ],
   "source": [
    "lowest_10_price_2023=average_nights_per_city_2023.sort_values()\n",
    "lowest_10_price_2023.head(10)"
   ]
  },
  {
   "cell_type": "markdown",
   "metadata": {},
   "source": [
    "## Understanding Customer Behavior - 2020\n",
    "\n",
    "Customer Behavior correlations based on available data: \n",
    "- Analyze % of renters who preferred Entire Home vs. Private Room in 2020\n",
    "- Analyze number of reviews compared to % availability of the AirBnB in 2020\n",
    "- Analyze comparison of price vs. minimum number of nights booked in 2020\n",
    "- Analyze number of reviews compared to city (i.e., which cities see most reviews which see least) in 2020\n",
    "- Analyze how weather impacts AirBnB availability by city in 2020"
   ]
  },
  {
   "cell_type": "code",
   "execution_count": null,
   "metadata": {},
   "outputs": [],
   "source": [
    "# Calculate % of renters who preferred Entire Home vs. Private Room in 2020"
   ]
  },
  {
   "cell_type": "code",
   "execution_count": null,
   "metadata": {},
   "outputs": [],
   "source": [
    "# Calculate number of reviews compared to % availability of the AirBnB in 2020"
   ]
  },
  {
   "cell_type": "code",
   "execution_count": null,
   "metadata": {},
   "outputs": [],
   "source": [
    "# Create comparison of price vs. minimum number of nights booked in 2020"
   ]
  },
  {
   "cell_type": "code",
   "execution_count": null,
   "metadata": {},
   "outputs": [],
   "source": [
    "# Calculate number of reviews compared to city (i.e., which cities see most reviews which see least) in 2020"
   ]
  },
  {
   "cell_type": "code",
   "execution_count": null,
   "metadata": {},
   "outputs": [],
   "source": [
    "# Use weather API key to compare within city"
   ]
  },
  {
   "cell_type": "markdown",
   "metadata": {},
   "source": [
    "## Understanding Customer Behavior - 2023\n",
    "\n",
    "Customer Behavior correlations based on available data: \n",
    "- Analyze % of renters who preferred Entire Home vs. Private Room in 2023\n",
    "- Analyze number of reviews compared to % availability of the AirBnB in 2023\n",
    "- Analyze comparison of price vs. minimum number of nights booked in 2023\n",
    "- Analyze number of reviews compared to city (i.e., which cities see most reviews which see least) in 2023\n",
    "- Analyze how weather impacts AirBnB availability by city in 2023"
   ]
  },
  {
   "cell_type": "code",
   "execution_count": null,
   "metadata": {},
   "outputs": [],
   "source": [
    "# Calculate % of renters who preferred Entire Home vs. Private Room in 2023"
   ]
  },
  {
   "cell_type": "code",
   "execution_count": null,
   "metadata": {},
   "outputs": [],
   "source": [
    "# Calculate number of reviews compared to % availability of the AirBnB in 2023"
   ]
  },
  {
   "cell_type": "code",
   "execution_count": null,
   "metadata": {},
   "outputs": [],
   "source": [
    "# Create comparison of price vs. minimum number of nights booked in 2023"
   ]
  },
  {
   "cell_type": "code",
   "execution_count": null,
   "metadata": {},
   "outputs": [],
   "source": [
    "# Calculate number of reviews compared to city (i.e., which cities see most reviews which see least) in 2020"
   ]
  },
  {
   "cell_type": "code",
   "execution_count": null,
   "metadata": {},
   "outputs": [],
   "source": [
    "# Use weather API key to compare within city"
   ]
  },
  {
   "cell_type": "markdown",
   "metadata": {},
   "source": [
    "## Comparing AirBnB rentals in 2020 and 2023\n",
    "\n",
    "- Compare 2020 to 2023 number of rentals\n",
    "- Compare 2020 to 2023 price of rentals\n",
    "- Compare 2020 to 2023 reviews of rentals\n",
    "- Compare 2020 to 2023 % of availability \n",
    "- Compare 2020 to 2023 avg. minimum number of nights booked"
   ]
  },
  {
   "cell_type": "code",
   "execution_count": null,
   "metadata": {},
   "outputs": [],
   "source": [
    "# Compare 2020 to 2023 total number of rentals"
   ]
  },
  {
   "cell_type": "code",
   "execution_count": null,
   "metadata": {},
   "outputs": [],
   "source": [
    "# Compare 2020 to 2023 avg. price of rentals"
   ]
  },
  {
   "cell_type": "code",
   "execution_count": null,
   "metadata": {},
   "outputs": [],
   "source": [
    "# Compare 2020 to 2023 avg. number of reviews of rentals"
   ]
  },
  {
   "cell_type": "code",
   "execution_count": null,
   "metadata": {},
   "outputs": [],
   "source": [
    "# Compare 2020 to 2023 % of availability for rentals"
   ]
  },
  {
   "cell_type": "code",
   "execution_count": null,
   "metadata": {},
   "outputs": [],
   "source": [
    "# Compare 2020 to 2023 avg. minimum number of nights booked"
   ]
  },
  {
   "cell_type": "code",
   "execution_count": null,
   "metadata": {},
   "outputs": [],
   "source": [
    "# Create summary table comparing 2020 to 2023 AirBnB data"
   ]
  }
 ],
 "metadata": {
  "anaconda-cloud": {},
  "kernel_info": {
   "name": "python3"
  },
  "kernelspec": {
   "display_name": "PythonData",
   "language": "python",
   "name": "python3"
  },
  "language_info": {
   "codemirror_mode": {
    "name": "ipython",
    "version": 3
   },
   "file_extension": ".py",
   "mimetype": "text/x-python",
   "name": "python",
   "nbconvert_exporter": "python",
   "pygments_lexer": "ipython3",
   "version": "3.11.7"
  },
  "latex_envs": {
   "LaTeX_envs_menu_present": true,
   "autoclose": false,
   "autocomplete": true,
   "bibliofile": "biblio.bib",
   "cite_by": "apalike",
   "current_citInitial": 1,
   "eqLabelWithNumbers": true,
   "eqNumInitial": 1,
   "hotkeys": {
    "equation": "Ctrl-E",
    "itemize": "Ctrl-I"
   },
   "labels_anchors": false,
   "latex_user_defs": false,
   "report_style_numbering": false,
   "user_envs_cfg": false
  },
  "nteract": {
   "version": "0.8.4"
  },
  "vscode": {
   "interpreter": {
    "hash": "5384d77d82de63fd599f73e77f9ec786e7719288bf80a29ec0288c670ac3cf32"
   }
  }
 },
 "nbformat": 4,
 "nbformat_minor": 4
}
