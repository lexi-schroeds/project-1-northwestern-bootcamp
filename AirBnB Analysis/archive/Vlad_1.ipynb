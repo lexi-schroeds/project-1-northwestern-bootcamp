{
 "cells": [
  {
   "attachments": {},
   "cell_type": "markdown",
   "metadata": {},
   "source": [
    "## AirBnB Analysis\n",
    "<i> Summary of the AirBnB data - to be filled in once below complete </i>"
   ]
  },
  {
   "cell_type": "markdown",
   "metadata": {},
   "source": [
    "## Setup"
   ]
  },
  {
   "cell_type": "code",
   "execution_count": null,
   "metadata": {},
   "outputs": [],
   "source": [
    "# Dependencies and Setup\n",
    "import pandas as pd\n",
    "from pathlib import Path\n",
    "import matplotlib.pyplot as plt\n",
    "import numpy as np\n",
    "import warnings\n",
    "warnings.filterwarnings('ignore')\n",
    "\n",
    "# File to Load (Remember to Change These)\n",
    "#airbnb_2020_data_to_load = Path(\"../resources/AB_US_2020.csv\")\n",
    "#airbnb_2023_data_to_load = Path(\"../resources/AB_US_2023.csv\")\n",
    "\n",
    "# Read 2020 and 2023 AirBnB Data Files and store into Pandas DataFrames\n",
    "AirBnB_2020_data = pd.read_csv(\"../AirBnB Analysis/resources/AB_US_2020.csv\")\n",
    "AirBnB_2023_data = pd.read_csv(\"../AirBnB Analysis/resources/AB_US_2023.csv\")\n",
    "\n",
    "# Combine the data into a single dataset.\n",
    "AirBnB_data_complete = pd.merge(AirBnB_2020_data, AirBnB_2023_data,on=\"year\", how=\"left\", )\n",
    "#AirBnB_data_complete.head()\n",
    "#AirBnB_2020_data.drop(['id','host_id','neighbourhood_group','host_id'],axis=1)\n",
    "AirBnB_2020_data.head(5)\n",
    "#AirBnB_2023_data.head()\n",
    "#AirBnB_data_complete.columns\n",
    "#AirBnB_data_complete.info()\n",
    "\n",
    "#df_2020=AirBnB_2020_data.set_index(\"year\")\n",
    "#df_2020.head()\n",
    "\n",
    "#AirBnB_data_complete.describe()\n",
    "\n",
    "\n"
   ]
  },
  {
   "cell_type": "markdown",
   "metadata": {},
   "source": [
    "## Customer Demand Summary - 2020\n",
    "\n",
    "For the purposes of this analysis, popularity is determined by the % availability and expensive by avg. price per city \n",
    "- Analyze most popular Top 10 cities in U.S. = low % availability (i.e., 0/365 days available = 0% availability) in 2020\n",
    "- Analyze least popular Bottom 10 cities in U.S. = high % availability (i.e., 365/365 days available = 100% availability) in 2020\n",
    "- Analyze most expensive Top 10 cities in U.S. = top 10 cities with highest avg. prices of AirBnB per city in 2020\n",
    "- Analyze least expensive Bottom 10 cities in U.S. =  bottom 10 cities with highest avg. prices of AirBnB per city in 2020\n"
   ]
  },
  {
   "cell_type": "code",
   "execution_count": null,
   "metadata": {},
   "outputs": [],
   "source": [
    "# Calculate the total number of unique AirBnBs grouped by City\n",
    "AirBnB_count = AirBnB_data_complete[\"id_x\"].nunique()\n",
    "AirBnB_count\n"
   ]
  },
  {
   "cell_type": "code",
   "execution_count": null,
   "metadata": {},
   "outputs": [],
   "source": [
    "#Calculate popularity of cities in U.S. by calculating availability per AirBnB grouped by City\n",
    "\n",
    "#Display Most Popular Cities (i.e., Top 10) with lowest % availability"
   ]
  },
  {
   "cell_type": "code",
   "execution_count": null,
   "metadata": {},
   "outputs": [],
   "source": [
    "#Display Least Popular Cities (i.e., Bottom 10) with highest % availability"
   ]
  },
  {
   "cell_type": "code",
   "execution_count": null,
   "metadata": {},
   "outputs": [],
   "source": [
    "#Calculate avg. price per AirBnB grouped by City\n",
    "\n",
    "#Display Most Expensive Cities (i.e., Top 10 highest avg. price of AirBnB)"
   ]
  },
  {
   "cell_type": "code",
   "execution_count": null,
   "metadata": {},
   "outputs": [],
   "source": [
    "#Display Least Expensive Cities (i.e., Bottom 10 lowest avg. price of AirBnB)"
   ]
  },
  {
   "cell_type": "markdown",
   "metadata": {},
   "source": [
    "## Customer Demand Summary - 2023\n",
    "\n",
    "For the purposes of this analysis, popularity is determined by the % availability and expensive by avg. price per city \n",
    "- Analyze most popular Top 10 cities in U.S. = low % availability (i.e., 0/365 days available = 0% availability) in 2023\n",
    "- Analyze least popular Bottom 10 cities in U.S. = high % availability (i.e., 365/365 days available = 100% availability) in 2023\n",
    "- Analyze most expensive Top 10 cities in U.S. = top 10 cities with highest avg. prices of AirBnB per city in 2023\n",
    "- Analyze least expensive Bottom 10 cities in U.S. =  bottom 10 cities with highest avg. prices of AirBnB per city in 2023\n"
   ]
  },
  {
   "cell_type": "code",
   "execution_count": null,
   "metadata": {},
   "outputs": [],
   "source": [
    "# Calculate the total number of unique AirBnBs grouped by City\n",
    "AirBnB_count = AirBnB_data_complete[\"id_x\"].nunique()\n",
    "AirBnB_count\n"
   ]
  },
  {
   "cell_type": "code",
   "execution_count": null,
   "metadata": {},
   "outputs": [],
   "source": [
    "del AirBnB_2020_data[\"neighbourhood_group\"]\n",
    "del AirBnB_2020_data[\"host_id\"]\n",
    "del AirBnB_2020_data[\"id\"]\n",
    "del AirBnB_2020_data[\"neighbourhood\"]\n",
    "AirBnB_2020_data.head()"
   ]
  },
  {
   "cell_type": "code",
   "execution_count": null,
   "metadata": {},
   "outputs": [],
   "source": [
    "del AirBnB_2023_data[\"neighbourhood_group\"]\n",
    "del AirBnB_2023_data[\"host_id\"]\n",
    "del AirBnB_2023_data[\"id\"]\n",
    "del AirBnB_2023_data[\"neighbourhood\"]\n",
    "AirBnB_2023_data.head(2)"
   ]
  },
  {
   "cell_type": "code",
   "execution_count": null,
   "metadata": {},
   "outputs": [],
   "source": [
    "popularity_2020=AirBnB_2020_data.set_index([\"city\"])[\"availability_365\"]\n",
    "popularity_2020"
   ]
  },
  {
   "cell_type": "code",
   "execution_count": null,
   "metadata": {},
   "outputs": [],
   "source": [
    "popularity_2023=AirBnB_2023_data.set_index([\"city\"])[\"availability_365\"]\n",
    "popularity_2023"
   ]
  },
  {
   "cell_type": "code",
   "execution_count": null,
   "metadata": {},
   "outputs": [],
   "source": [
    "\n",
    "total_nights_per_city_2020=AirBnB_2020_data.set_index([\"city\"])[\"availability_365\"]\n",
    "\n",
    "total_nights_per_city_2020"
   ]
  },
  {
   "cell_type": "code",
   "execution_count": null,
   "metadata": {},
   "outputs": [],
   "source": [
    "total_nights_per_city_2023=AirBnB_2023_data.set_index([\"city\"])[\"availability_365\"]\n",
    "total_nights_per_city_2023"
   ]
  },
  {
   "cell_type": "code",
   "execution_count": null,
   "metadata": {},
   "outputs": [],
   "source": [
    "cities_2020=AirBnB_2020_data[\"city\"].value_counts()\n",
    "cities_2020"
   ]
  },
  {
   "cell_type": "code",
   "execution_count": null,
   "metadata": {},
   "outputs": [],
   "source": [
    "cities_2023=AirBnB_2023_data[\"city\"].value_counts()\n",
    "cities_2023"
   ]
  },
  {
   "cell_type": "code",
   "execution_count": null,
   "metadata": {},
   "outputs": [],
   "source": [
    "average_nights_per_city_2020=AirBnB_2020_data.groupby([\"city\"])[\"availability_365\"].mean()\n",
    "average_nights_per_city_2020"
   ]
  },
  {
   "cell_type": "code",
   "execution_count": null,
   "metadata": {},
   "outputs": [],
   "source": [
    "average_nights_per_city_2023=AirBnB_2023_data.groupby([\"city\"])[\"availability_365\"].mean()\n",
    "average_nights_per_city_2023"
   ]
  },
  {
   "cell_type": "code",
   "execution_count": null,
   "metadata": {},
   "outputs": [],
   "source": [
    "most_pop_city_20=AirBnB_2020_data.loc[AirBnB_2020_data[\"availability_365\"]==365][AirBnB_2020_data[\"availability_365\"]>=350]\n",
    "most_pop_city_2020=most_pop_city_20.sort_values(\"availability_365\",ascending=False)\n",
    "most_pop_city_2020.head(2)"
   ]
  },
  {
   "cell_type": "code",
   "execution_count": null,
   "metadata": {},
   "outputs": [],
   "source": [
    "most_pop_city_23=AirBnB_2023_data.loc[AirBnB_2023_data[\"availability_365\"]==365][AirBnB_2023_data[\"availability_365\"]>=350]\n",
    "most_pop_city_2023=most_pop_city_23.sort_values(\"availability_365\",ascending=False)\n",
    "most_pop_city_2023.head(2)"
   ]
  },
  {
   "cell_type": "code",
   "execution_count": null,
   "metadata": {},
   "outputs": [],
   "source": [
    "#Calculate popularity of cities in U.S. by calculating availability per AirBnB grouped by City\n",
    "\n",
    "availability_min_2020=AirBnB_2020_data.sort_values(\"availability_365\")\n",
    "availability_max_2020=AirBnB_2020_data.sort_values(\"availability_365\",ascending=False)\n",
    "\n",
    "availability_min_2023=AirBnB_2023_data.sort_values(\"availability_365\")\n",
    "availability_max_2023=AirBnB_2023_data.sort_values(\"availability_365\",ascending=False)\n",
    "\n",
    "#availability_min_2020.head(2)\n",
    "#availability_max_2020.head(2)\n",
    "#availability_min_2023.head(2)\n",
    "#availability_max_2023.head(2)\n",
    "#availability_cities_2020=AirBnb_2020[[\"availability_365\",\"city\"]]\n",
    "#availability_cities_2020\n",
    "less_popular_cities_2020=availability_max_2020.loc[availability_max_2020[\"availability_365\"]>=365],[\"city\",\"availability\"]\n",
    "less_popular_cities_2020\n",
    "popular_cities_2020=availability_min_2020.loc[availability_min_2020[\"availability_365\"]<=365],[\"name\",\"host_name\"]\n",
    "popular_cities_2020\n",
    "\n",
    "less_popular_cities_2023=availability_max_2023.loc[availability_max_2023[\"availability_365\"]>=365],[\"city\",\"availability\"]\n",
    "less_popular_cities_2020\n",
    "popular_cities_2023=availability_min_2023.loc[availability_min_2023[\"availability_365\"]<=365],[\"name\",\"host_name\"]\n",
    "popular_cities_2023\n",
    "\n",
    "#Display Most Popular Cities (i.e., Top 10) with lowest % availability\n"
   ]
  },
  {
   "cell_type": "code",
   "execution_count": null,
   "metadata": {},
   "outputs": [],
   "source": [
    "#Display Least Popular Cities (i.e., Bottom 10) with highest % availability\n"
   ]
  },
  {
   "cell_type": "code",
   "execution_count": null,
   "metadata": {},
   "outputs": [],
   "source": [
    "#Calculate avg. price per AirBnB grouped by City\n",
    "average_price_per_city_2020=AirBnB_2020_data.groupby([\"city\"])[\"price\"].mean()\n",
    "average_price_per_city_2020\n",
    "\n"
   ]
  },
  {
   "cell_type": "code",
   "execution_count": 133,
   "metadata": {},
   "outputs": [
    {
     "data": {
      "image/png": "[encoded data removed]",
      "text/plain": [
       "<Figure size 2000x400 with 1 Axes>"
      ]
     },
     "metadata": {},
     "output_type": "display_data"
    }
   ],
   "source": [
    "average_price_per_city_2020.plot(kind=\"bar\",color=\"red\",figsize=(20,4))\n",
    "plt.title(\"Average price per city 2020\")\n",
    "plt.show()"
   ]
  },
  {
   "cell_type": "code",
   "execution_count": null,
   "metadata": {},
   "outputs": [],
   "source": [
    "average_price_per_city_2023=AirBnB_2023_data.groupby([\"city\"])[\"price\"].mean()\n",
    "average_price_per_city_2023"
   ]
  },
  {
   "cell_type": "code",
   "execution_count": null,
   "metadata": {},
   "outputs": [],
   "source": [
    "average_price_per_city_2023.plot(kind=\"bar\",figsize=(20,4))\n",
    "plt.title(\"Average price per city 2023\")\n",
    "plt.show()"
   ]
  },
  {
   "cell_type": "code",
   "execution_count": null,
   "metadata": {},
   "outputs": [],
   "source": [
    "top_10_price_2020=average_nights_per_city_2020.sort_values(ascending=False)\n",
    "top_10_price_2020.head(10)\n",
    "\n"
   ]
  },
  {
   "cell_type": "code",
   "execution_count": null,
   "metadata": {},
   "outputs": [],
   "source": [
    "top_10_price_2020.plot(kind=\"bar\",figsize=(20,4))\n",
    "plt.title(\"Top 10 cities per price\")\n",
    "plt.show()"
   ]
  },
  {
   "cell_type": "code",
   "execution_count": null,
   "metadata": {},
   "outputs": [],
   "source": [
    "#Display Most Expensive Cities (i.e., Top 10 highest avg. price of AirBnB)\n",
    "top_10_price_2023=average_nights_per_city_2023.sort_values(ascending=False)\n",
    "top_10_price_2023.head(10)\n"
   ]
  },
  {
   "cell_type": "code",
   "execution_count": null,
   "metadata": {},
   "outputs": [],
   "source": [
    "\n",
    "\n",
    "\n",
    "\n",
    "\n"
   ]
  },
  {
   "cell_type": "code",
   "execution_count": null,
   "metadata": {},
   "outputs": [],
   "source": [
    "#Display Least Expensive Cities (i.e., Bottom 10 lowest avg. price of AirBnB)\n",
    "lowest_10_price_2020=average_nights_per_city_2020.sort_values()\n",
    "lowest_10_price_2020.head(10)"
   ]
  },
  {
   "cell_type": "code",
   "execution_count": null,
   "metadata": {},
   "outputs": [],
   "source": [
    "lowest_10_price_2023=average_nights_per_city_2023.sort_values()\n",
    "lowest_10_price_2023.head(10)"
   ]
  },
  {
   "cell_type": "markdown",
   "metadata": {},
   "source": [
    "## Understanding Customer Behavior - 2020\n",
    "\n",
    "Customer Behavior correlations based on available data: \n",
    "- Analyze % of renters who preferred Entire Home vs. Private Room in 2020\n",
    "- Analyze number of reviews compared to % availability of the AirBnB in 2020\n",
    "- Analyze comparison of price vs. minimum number of nights booked in 2020\n",
    "- Analyze number of reviews compared to city (i.e., which cities see most reviews which see least) in 2020\n",
    "- Analyze how weather impacts AirBnB availability by city in 2020"
   ]
  },
  {
   "cell_type": "code",
   "execution_count": null,
   "metadata": {},
   "outputs": [],
   "source": [
    "# Calculate % of renters who preferred Entire Home vs. Private Room in 2020"
   ]
  },
  {
   "cell_type": "code",
   "execution_count": null,
   "metadata": {},
   "outputs": [],
   "source": [
    "# Calculate number of reviews compared to % availability of the AirBnB in 2020"
   ]
  },
  {
   "cell_type": "code",
   "execution_count": null,
   "metadata": {},
   "outputs": [],
   "source": [
    "# Create comparison of price vs. minimum number of nights booked in 2020"
   ]
  },
  {
   "cell_type": "code",
   "execution_count": null,
   "metadata": {},
   "outputs": [],
   "source": [
    "# Calculate number of reviews compared to city (i.e., which cities see most reviews which see least) in 2020"
   ]
  },
  {
   "cell_type": "code",
   "execution_count": null,
   "metadata": {},
   "outputs": [],
   "source": [
    "# Use weather API key to compare within city"
   ]
  },
  {
   "cell_type": "markdown",
   "metadata": {},
   "source": [
    "## Understanding Customer Behavior - 2023\n",
    "\n",
    "Customer Behavior correlations based on available data: \n",
    "- Analyze % of renters who preferred Entire Home vs. Private Room in 2023\n",
    "- Analyze number of reviews compared to % availability of the AirBnB in 2023\n",
    "- Analyze comparison of price vs. minimum number of nights booked in 2023\n",
    "- Analyze number of reviews compared to city (i.e., which cities see most reviews which see least) in 2023\n",
    "- Analyze how weather impacts AirBnB availability by city in 2023"
   ]
  },
  {
   "cell_type": "code",
   "execution_count": null,
   "metadata": {},
   "outputs": [],
   "source": [
    "# Calculate % of renters who preferred Entire Home vs. Private Room in 2023"
   ]
  },
  {
   "cell_type": "code",
   "execution_count": null,
   "metadata": {},
   "outputs": [],
   "source": [
    "# Calculate number of reviews compared to % availability of the AirBnB in 2023"
   ]
  },
  {
   "cell_type": "code",
   "execution_count": null,
   "metadata": {},
   "outputs": [],
   "source": [
    "# Create comparison of price vs. minimum number of nights booked in 2023"
   ]
  },
  {
   "cell_type": "code",
   "execution_count": null,
   "metadata": {},
   "outputs": [],
   "source": [
    "# Calculate number of reviews compared to city (i.e., which cities see most reviews which see least) in 2020"
   ]
  },
  {
   "cell_type": "code",
   "execution_count": null,
   "metadata": {},
   "outputs": [],
   "source": [
    "# Use weather API key to compare within city"
   ]
  },
  {
   "cell_type": "markdown",
   "metadata": {},
   "source": [
    "## Comparing AirBnB rentals in 2020 and 2023\n",
    "\n",
    "- Compare 2020 to 2023 number of rentals\n",
    "- Compare 2020 to 2023 price of rentals\n",
    "- Compare 2020 to 2023 reviews of rentals\n",
    "- Compare 2020 to 2023 % of availability \n",
    "- Compare 2020 to 2023 avg. minimum number of nights booked"
   ]
  },
  {
   "cell_type": "code",
   "execution_count": null,
   "metadata": {},
   "outputs": [],
   "source": [
    "# Compare 2020 to 2023 total number of rentals"
   ]
  },
  {
   "cell_type": "code",
   "execution_count": null,
   "metadata": {},
   "outputs": [],
   "source": [
    "# Compare 2020 to 2023 avg. price of rentals"
   ]
  },
  {
   "cell_type": "code",
   "execution_count": null,
   "metadata": {},
   "outputs": [],
   "source": [
    "# Compare 2020 to 2023 avg. number of reviews of rentals"
   ]
  },
  {
   "cell_type": "code",
   "execution_count": null,
   "metadata": {},
   "outputs": [],
   "source": [
    "# Compare 2020 to 2023 % of availability for rentals"
   ]
  },
  {
   "cell_type": "code",
   "execution_count": null,
   "metadata": {},
   "outputs": [],
   "source": [
    "# Compare 2020 to 2023 avg. minimum number of nights booked"
   ]
  },
  {
   "cell_type": "code",
   "execution_count": null,
   "metadata": {},
   "outputs": [],
   "source": [
    "# Create summary table comparing 2020 to 2023 AirBnB data"
   ]
  }
 ],
 "metadata": {
  "anaconda-cloud": {},
  "kernel_info": {
   "name": "python3"
  },
  "kernelspec": {
   "display_name": "PythonData",
   "language": "python",
   "name": "python3"
  },
  "language_info": {
   "codemirror_mode": {
    "name": "ipython",
    "version": 3
   },
   "file_extension": ".py",
   "mimetype": "text/x-python",
   "name": "python",
   "nbconvert_exporter": "python",
   "pygments_lexer": "ipython3",
   "version": "3.11.7"
  },
  "latex_envs": {
   "LaTeX_envs_menu_present": true,
   "autoclose": false,
   "autocomplete": true,
   "bibliofile": "biblio.bib",
   "cite_by": "apalike",
   "current_citInitial": 1,
   "eqLabelWithNumbers": true,
   "eqNumInitial": 1,
   "hotkeys": {
    "equation": "Ctrl-E",
    "itemize": "Ctrl-I"
   },
   "labels_anchors": false,
   "latex_user_defs": false,
   "report_style_numbering": false,
   "user_envs_cfg": false
  },
  "nteract": {
   "version": "0.8.4"
  },
  "vscode": {
   "interpreter": {
    "hash": "5384d77d82de63fd599f73e77f9ec786e7719288bf80a29ec0288c670ac3cf32"
   }
  }
 },
 "nbformat": 4,
 "nbformat_minor": 4
}
